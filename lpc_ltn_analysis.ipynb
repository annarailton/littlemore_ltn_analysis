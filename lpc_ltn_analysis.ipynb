{
 "cells": [
  {
   "cell_type": "markdown",
   "id": "7bca77db-2ee2-4b62-a737-1b2f7f51d86e",
   "metadata": {
    "tags": []
   },
   "source": [
    "# Littlemore Parish Council LTN questionnaire analysis\n",
    "\n",
    "## Data collection\n",
    "\n",
    "Data was collected in October 2021 via distributing paper copies of this questionnaire (TODO: link to questionnaire). Questionnaires were only distributed to those who were in when we knocked on the door then we went round a second time to pick them up. From experience, this gets significantly better engagement than simply dropping the questionnaire through the door with no interaction. \n",
    "\n",
    "We decided to not use an online option as \n",
    "- easy to brigade (i.e. spam with multiple responses)\n",
    "- more difficult to get good geographic coverage throughout Littlemore\n",
    "- not as accessible for older people\n",
    "- expected lower engagement, with only the most engaged already taking part\n",
    "\n",
    "Limitations:\n",
    "\n",
    "- Flats were difficult to do so we have poor coverage here\n",
    "- We did not have time nor the manpower to visit multiple times so there will be a bias to those who are in early evening (5-7pm ish)\n",
    "\n",
    "## Anonymisation (TODO)\n",
    "\n",
    "To make it impossible (as far as possible) to not identify individuals from the data. \n",
    "\n",
    "Only identifiable data is street name (collected no demographic data like age) so we bundle streets together geographically if there are less than three responses for a single street. This has been done before this notebook - this notebook works on the anonymised data.\n",
    "\n",
    "## Notes on specific questions\n",
    "\n",
    "\n",
    "### Question 2\n",
    "\n",
    "Raw numbers difficult to use without knowing number of people in household. \n",
    "\n",
    "### Question 3 \n",
    "\n",
    "Unsure if people are filling this in as intented (i.e. missing the \"driving\" aspect). Should've been more carefully worded. Needed a \"don't drive\" box. \n",
    "\n",
    "### Question 4\n",
    "\n",
    "A number of people missed this question; placement right at the top of the page made it less obvious?\n",
    "\n",
    "### Question 5\n",
    "\n",
    "Where people circled an option for some of the filters, I circled \"No opinion\" for the blank ones. Kind of regret starting to do this, but kept doing it to be consistent. \n",
    "\n",
    "### Question 7 and 8\n",
    "\n",
    "Some normalisation happened here when transcribing *e.g.*\n",
    "- \"It takes a long time to get to my destination\" -> \"Longer journeys\"\n",
    "- Mapped a lot of related things to \"traffic displacement\" \n",
    "- Only written \"None\" if something was written there (normalised, e.g. \"Nothing\", \"I can't see any benefit\")\n",
    "\n",
    "This was to:\n",
    "- Make it easier and quicker to input, without losing data\n",
    "- Make it easier to analyse later\n",
    "\n",
    "### Question 10\n",
    "\n",
    "A lot of people used this for expanding on Question 8 (problem with LTN) rather than thinking of other solutions. Negatives of the LTN were moved to Question 8 responses. Similar to the free-text fields of Questions 7 and 8, some paraphrasing took place. \n",
    "\n",
    "## Bad data\n",
    "\n",
    "Only spotted a couple of obvious duplicates (same hand writing, same pen, very similar content, same road). These were removed from the data. \n",
    "\n",
    "## Missed opportunities\n",
    "\n",
    "Should've asked:\n",
    "- number of people in household\n",
    "- number of cars in household\n",
    "- age data\n"
   ]
  },
  {
   "cell_type": "code",
   "execution_count": 4,
   "id": "bc5fa7cb-a5d7-488e-8a5a-275a9634aa89",
   "metadata": {},
   "outputs": [],
   "source": [
    "import matplotlib.pyplot as plt\n",
    "import numpy as np\n",
    "import pandas as pd"
   ]
  },
  {
   "cell_type": "code",
   "execution_count": 5,
   "id": "88d8da12-3c1f-486a-bc5c-f935022f6d69",
   "metadata": {},
   "outputs": [],
   "source": [
    "data = \"data/responses_20211102.csv\""
   ]
  },
  {
   "cell_type": "markdown",
   "id": "7b6f0a1b-a42c-4a8d-9f0e-795ddcb38ad7",
   "metadata": {},
   "source": [
    "## Clean up column names so don't have to deal with spaces"
   ]
  },
  {
   "cell_type": "code",
   "execution_count": 6,
   "id": "cf34a3e4-6880-4ffd-98b3-e30a9b818445",
   "metadata": {},
   "outputs": [
    {
     "data": {
      "text/html": [
       "<div>\n",
       "<style scoped>\n",
       "    .dataframe tbody tr th:only-of-type {\n",
       "        vertical-align: middle;\n",
       "    }\n",
       "\n",
       "    .dataframe tbody tr th {\n",
       "        vertical-align: top;\n",
       "    }\n",
       "\n",
       "    .dataframe thead th {\n",
       "        text-align: right;\n",
       "    }\n",
       "</style>\n",
       "<table border=\"1\" class=\"dataframe\">\n",
       "  <thead>\n",
       "    <tr style=\"text-align: right;\">\n",
       "      <th></th>\n",
       "      <th>timestamp</th>\n",
       "      <th>email</th>\n",
       "      <th>street</th>\n",
       "      <th>1_reduce_traffic</th>\n",
       "      <th>2_car_before</th>\n",
       "      <th>2_car_after</th>\n",
       "      <th>2_motorbike_before</th>\n",
       "      <th>2_motorbike_after</th>\n",
       "      <th>2_van_before</th>\n",
       "      <th>2_van_after</th>\n",
       "      <th>...</th>\n",
       "      <th>5_littlemore_road</th>\n",
       "      <th>5_mayfair_road</th>\n",
       "      <th>5_liddell_road</th>\n",
       "      <th>5_bartholomew_road</th>\n",
       "      <th>6_ltn_future</th>\n",
       "      <th>7_ltn_benefit</th>\n",
       "      <th>8_ltn_problem</th>\n",
       "      <th>9_consultation</th>\n",
       "      <th>10_traffic_ideas</th>\n",
       "      <th>Unnamed: 33</th>\n",
       "    </tr>\n",
       "  </thead>\n",
       "  <tbody>\n",
       "    <tr>\n",
       "      <th>0</th>\n",
       "      <td>10/14/2021 20:03:40</td>\n",
       "      <td>anna.railton@gmail.com</td>\n",
       "      <td>Marlborough Close</td>\n",
       "      <td>Yes</td>\n",
       "      <td>0</td>\n",
       "      <td>0</td>\n",
       "      <td>0</td>\n",
       "      <td>0</td>\n",
       "      <td>0</td>\n",
       "      <td>0</td>\n",
       "      <td>...</td>\n",
       "      <td>Agree</td>\n",
       "      <td>Agree</td>\n",
       "      <td>Agree</td>\n",
       "      <td>Agree</td>\n",
       "      <td>Kept as is</td>\n",
       "      <td>Road safety and improved air quality</td>\n",
       "      <td>Not enough of them - disconnected from wider p...</td>\n",
       "      <td>Yes</td>\n",
       "      <td>NaN</td>\n",
       "      <td>NaN</td>\n",
       "    </tr>\n",
       "    <tr>\n",
       "      <th>1</th>\n",
       "      <td>10/18/2021 18:26:48</td>\n",
       "      <td>chris@smowton.net</td>\n",
       "      <td>Champion Way</td>\n",
       "      <td>Yes</td>\n",
       "      <td>5</td>\n",
       "      <td>5</td>\n",
       "      <td>NaN</td>\n",
       "      <td>NaN</td>\n",
       "      <td>NaN</td>\n",
       "      <td>NaN</td>\n",
       "      <td>...</td>\n",
       "      <td>Remove</td>\n",
       "      <td>No opinion</td>\n",
       "      <td>No opinion</td>\n",
       "      <td>Change</td>\n",
       "      <td>Kept with alterations</td>\n",
       "      <td>Some areas became quieter</td>\n",
       "      <td>Displaced traffic</td>\n",
       "      <td>No</td>\n",
       "      <td>NaN</td>\n",
       "      <td>NaN</td>\n",
       "    </tr>\n",
       "    <tr>\n",
       "      <th>2</th>\n",
       "      <td>10/18/2021 18:30:18</td>\n",
       "      <td>chris@smowton.net</td>\n",
       "      <td>Champion Way</td>\n",
       "      <td>NaN</td>\n",
       "      <td>5</td>\n",
       "      <td>5</td>\n",
       "      <td>NaN</td>\n",
       "      <td>NaN</td>\n",
       "      <td>NaN</td>\n",
       "      <td>NaN</td>\n",
       "      <td>...</td>\n",
       "      <td>Remove</td>\n",
       "      <td>No opinion</td>\n",
       "      <td>Remove</td>\n",
       "      <td>Remove</td>\n",
       "      <td>NaN</td>\n",
       "      <td>None</td>\n",
       "      <td>More traffic jams</td>\n",
       "      <td>No</td>\n",
       "      <td>Don't see the point of LTNs; make traffic wors...</td>\n",
       "      <td>NaN</td>\n",
       "    </tr>\n",
       "    <tr>\n",
       "      <th>3</th>\n",
       "      <td>10/18/2021 18:31:50</td>\n",
       "      <td>chris@smowton.net</td>\n",
       "      <td>Champion Way</td>\n",
       "      <td>Yes</td>\n",
       "      <td>5</td>\n",
       "      <td>5</td>\n",
       "      <td>0</td>\n",
       "      <td>0</td>\n",
       "      <td>0</td>\n",
       "      <td>0</td>\n",
       "      <td>...</td>\n",
       "      <td>Remove</td>\n",
       "      <td>Change</td>\n",
       "      <td>Change</td>\n",
       "      <td>Remove</td>\n",
       "      <td>Removed</td>\n",
       "      <td>Ride bike safely</td>\n",
       "      <td>Traffic is worse</td>\n",
       "      <td>No</td>\n",
       "      <td>NaN</td>\n",
       "      <td>NaN</td>\n",
       "    </tr>\n",
       "    <tr>\n",
       "      <th>4</th>\n",
       "      <td>10/18/2021 18:33:22</td>\n",
       "      <td>chris@smowton.net</td>\n",
       "      <td>Champion Way</td>\n",
       "      <td>Yes</td>\n",
       "      <td>10</td>\n",
       "      <td>10</td>\n",
       "      <td>50</td>\n",
       "      <td>100</td>\n",
       "      <td>0</td>\n",
       "      <td>0</td>\n",
       "      <td>...</td>\n",
       "      <td>Remove</td>\n",
       "      <td>Remove</td>\n",
       "      <td>Agree</td>\n",
       "      <td>Change</td>\n",
       "      <td>Kept with alterations</td>\n",
       "      <td>Nothing</td>\n",
       "      <td>Everything</td>\n",
       "      <td>No</td>\n",
       "      <td>Make Bartholomew Road timed, e.g. closed 0730-...</td>\n",
       "      <td>NaN</td>\n",
       "    </tr>\n",
       "  </tbody>\n",
       "</table>\n",
       "<p>5 rows × 34 columns</p>\n",
       "</div>"
      ],
      "text/plain": [
       "             timestamp                   email             street  \\\n",
       "0  10/14/2021 20:03:40  anna.railton@gmail.com  Marlborough Close   \n",
       "1  10/18/2021 18:26:48       chris@smowton.net       Champion Way   \n",
       "2  10/18/2021 18:30:18       chris@smowton.net       Champion Way   \n",
       "3  10/18/2021 18:31:50       chris@smowton.net       Champion Way   \n",
       "4  10/18/2021 18:33:22       chris@smowton.net       Champion Way   \n",
       "\n",
       "  1_reduce_traffic 2_car_before 2_car_after 2_motorbike_before  \\\n",
       "0              Yes            0           0                  0   \n",
       "1              Yes            5           5                NaN   \n",
       "2              NaN            5           5                NaN   \n",
       "3              Yes            5           5                  0   \n",
       "4              Yes           10          10                 50   \n",
       "\n",
       "  2_motorbike_after 2_van_before 2_van_after  ... 5_littlemore_road  \\\n",
       "0                 0            0           0  ...             Agree   \n",
       "1               NaN          NaN         NaN  ...            Remove   \n",
       "2               NaN          NaN         NaN  ...            Remove   \n",
       "3                 0            0           0  ...            Remove   \n",
       "4               100            0           0  ...            Remove   \n",
       "\n",
       "  5_mayfair_road 5_liddell_road 5_bartholomew_road           6_ltn_future  \\\n",
       "0          Agree          Agree              Agree             Kept as is   \n",
       "1     No opinion     No opinion             Change  Kept with alterations   \n",
       "2     No opinion         Remove             Remove                    NaN   \n",
       "3         Change         Change             Remove                Removed   \n",
       "4         Remove          Agree             Change  Kept with alterations   \n",
       "\n",
       "                          7_ltn_benefit  \\\n",
       "0  Road safety and improved air quality   \n",
       "1             Some areas became quieter   \n",
       "2                                  None   \n",
       "3                      Ride bike safely   \n",
       "4                               Nothing   \n",
       "\n",
       "                                       8_ltn_problem 9_consultation  \\\n",
       "0  Not enough of them - disconnected from wider p...            Yes   \n",
       "1                                  Displaced traffic             No   \n",
       "2                                  More traffic jams             No   \n",
       "3                                   Traffic is worse             No   \n",
       "4                                         Everything             No   \n",
       "\n",
       "                                    10_traffic_ideas Unnamed: 33  \n",
       "0                                                NaN         NaN  \n",
       "1                                                NaN         NaN  \n",
       "2  Don't see the point of LTNs; make traffic wors...         NaN  \n",
       "3                                                NaN         NaN  \n",
       "4  Make Bartholomew Road timed, e.g. closed 0730-...         NaN  \n",
       "\n",
       "[5 rows x 34 columns]"
      ]
     },
     "execution_count": 6,
     "metadata": {},
     "output_type": "execute_result"
    }
   ],
   "source": [
    "df = pd.read_csv(data)\n",
    "df.rename(\n",
    "    columns={\n",
    "        \"Timestamp\": \"timestamp\",\n",
    "        \"Street or Road Name\": \"street\",\n",
    "        \"Email Address\": \"email\",\n",
    "        \"1: Are you in favour of reducing traffic in Littlemore?\": \"1_reduce_traffic\",\n",
    "        \"2: How many journeys per week do you make - CAR - BEFORE LTN\": \"2_car_before\",\n",
    "        \"2: How many journeys per week do you make - CAR - AFTER LTN\": \"2_car_after\",\n",
    "        \"2: How many journeys per week do you make - MOTORBIKE - BEFORE LTN\": \"2_motorbike_before\",\n",
    "        \"2: How many journeys per week do you make - MOTORBIKE - AFTER LTN\": \"2_motorbike_after\",\n",
    "        \"2: How many journeys per week do you make - VAN - BEFORE LTN\": \"2_van_before\",\n",
    "        \"2: How many journeys per week do you make - VAN - AFTER LTN\": \"2_van_after\",\n",
    "        \"2: How many journeys per week do you make - BUS - BEFORE LTN\": \"2_bus_before\",\n",
    "        \"2: How many journeys per week do you make - BUS - AFTER LTN\": \"2_bus_after\",\n",
    "        \"2: How many journeys per week do you make - FOOT - BEFORE LTN\": \"2_foot_before\",\n",
    "        \"2: How many journeys per week do you make - FOOT - AFTER LTN\": \"2_foot_after\",\n",
    "        \"2: How many journeys per week do you make - WHEELCHAIR etc - BEFORE LTN\": \"2_wheelchair_before\",\n",
    "        \"2: How many journeys per week do you make - WHEELCHAIR etc - AFTER LTN\": \"2_wheelchair_after\",\n",
    "        \"2: How many journeys per week do you make - BIKE - BEFORE LTN\": \"2_bike_before\",\n",
    "        \"2: How many journeys per week do you make - BIKE - AFTER LTN\": \"2_bike_after\",\n",
    "        \"2: How many journeys per week do you make - SCOOTER - BEFORE LTN\": \"2_scooter_before\",\n",
    "        \"2: How many journeys per week do you make - SCOOTER - AFTER LTN\": \"2_scooter_after\",\n",
    "        \"3: If you drive, the reasons for this are:\": \"3_drive_reasons\",\n",
    "        \"4. Overall, the LTN's impact on you has been:\": \"4_ltn_impact\",\n",
    "        \"5. Location of traffic filters: Church Hill Road\": \"5_church_hill_road\",\n",
    "        \"5. Location of traffic filters: Beauchamp Lane\": \"5_beauchamp_lane\",\n",
    "        \"5. Location of traffic filters: Littlemore Road\": \"5_littlemore_road\",\n",
    "        \"5. Location of traffic filters: Mayfair Road\": \"5_mayfair_road\",\n",
    "        \"5. Location of traffic filters: Liddell Road\": \"5_liddell_road\",\n",
    "        \"5. Location of traffic filters: Bartholomew Road\": \"5_bartholomew_road\",\n",
    "        \"6: Do you think the current Cowley LTNs should be\": \"6_ltn_future\",\n",
    "        \"7:  What is the biggest benefit of the LTNs?\": \"7_ltn_benefit\",\n",
    "        \"8: What is the biggest problem of the LTNs?\": \"8_ltn_problem\",\n",
    "        \"9: Have you filled in the county's online LTN consultation?\": \"9_consultation\",\n",
    "        \"10. Do you have any other comments or ideas to improve traffic in our area?\": \"10_traffic_ideas\",\n",
    "    },\n",
    "    inplace=True,\n",
    ")\n",
    "df.head()"
   ]
  },
  {
   "cell_type": "markdown",
   "id": "e0569377-8f18-4b4b-ba99-8688d5d5ca99",
   "metadata": {},
   "source": [
    "## Add in street level data"
   ]
  },
  {
   "cell_type": "code",
   "execution_count": 7,
   "id": "9f83e618-9eab-4230-bda5-979b30cc503f",
   "metadata": {},
   "outputs": [
    {
     "data": {
      "text/html": [
       "<div>\n",
       "<style scoped>\n",
       "    .dataframe tbody tr th:only-of-type {\n",
       "        vertical-align: middle;\n",
       "    }\n",
       "\n",
       "    .dataframe tbody tr th {\n",
       "        vertical-align: top;\n",
       "    }\n",
       "\n",
       "    .dataframe thead th {\n",
       "        text-align: right;\n",
       "    }\n",
       "</style>\n",
       "<table border=\"1\" class=\"dataframe\">\n",
       "  <thead>\n",
       "    <tr style=\"text-align: right;\">\n",
       "      <th></th>\n",
       "      <th>street</th>\n",
       "      <th>count</th>\n",
       "      <th>inside_ltn</th>\n",
       "      <th>borders_ltn</th>\n",
       "      <th>in_littlemore_parish</th>\n",
       "      <th>cul_de_sac</th>\n",
       "      <th>postcode</th>\n",
       "      <th>latitude</th>\n",
       "      <th>longitude</th>\n",
       "      <th>driving_distance_to_ltn_meters</th>\n",
       "    </tr>\n",
       "  </thead>\n",
       "  <tbody>\n",
       "    <tr>\n",
       "      <th>0</th>\n",
       "      <td>Addison Drive</td>\n",
       "      <td>19</td>\n",
       "      <td>1</td>\n",
       "      <td>0</td>\n",
       "      <td>1</td>\n",
       "      <td>0</td>\n",
       "      <td>OX4 3UD</td>\n",
       "      <td>51.726362</td>\n",
       "      <td>-1.218138</td>\n",
       "      <td>338.8</td>\n",
       "    </tr>\n",
       "    <tr>\n",
       "      <th>1</th>\n",
       "      <td>Alice Smith Square</td>\n",
       "      <td>95</td>\n",
       "      <td>0</td>\n",
       "      <td>0</td>\n",
       "      <td>1</td>\n",
       "      <td>1</td>\n",
       "      <td>OX4 4NF</td>\n",
       "      <td>51.720830</td>\n",
       "      <td>-1.217460</td>\n",
       "      <td>1197.6</td>\n",
       "    </tr>\n",
       "    <tr>\n",
       "      <th>2</th>\n",
       "      <td>Astrop Lane</td>\n",
       "      <td>18</td>\n",
       "      <td>0</td>\n",
       "      <td>0</td>\n",
       "      <td>1</td>\n",
       "      <td>1</td>\n",
       "      <td>OX4 4FW</td>\n",
       "      <td>51.719944</td>\n",
       "      <td>-1.226774</td>\n",
       "      <td>1336.4</td>\n",
       "    </tr>\n",
       "    <tr>\n",
       "      <th>3</th>\n",
       "      <td>Bampton Close</td>\n",
       "      <td>30</td>\n",
       "      <td>0</td>\n",
       "      <td>0</td>\n",
       "      <td>1</td>\n",
       "      <td>1</td>\n",
       "      <td>OX4 6NN</td>\n",
       "      <td>51.723830</td>\n",
       "      <td>-1.211400</td>\n",
       "      <td>1807.2</td>\n",
       "    </tr>\n",
       "    <tr>\n",
       "      <th>4</th>\n",
       "      <td>Barberi Close</td>\n",
       "      <td>24</td>\n",
       "      <td>0</td>\n",
       "      <td>0</td>\n",
       "      <td>1</td>\n",
       "      <td>1</td>\n",
       "      <td>OX4 4GF</td>\n",
       "      <td>51.721360</td>\n",
       "      <td>-1.221830</td>\n",
       "      <td>1005.5</td>\n",
       "    </tr>\n",
       "  </tbody>\n",
       "</table>\n",
       "</div>"
      ],
      "text/plain": [
       "               street  count  inside_ltn  borders_ltn  in_littlemore_parish  \\\n",
       "0       Addison Drive     19           1            0                     1   \n",
       "1  Alice Smith Square     95           0            0                     1   \n",
       "2         Astrop Lane     18           0            0                     1   \n",
       "3       Bampton Close     30           0            0                     1   \n",
       "4       Barberi Close     24           0            0                     1   \n",
       "\n",
       "   cul_de_sac postcode   latitude  longitude  driving_distance_to_ltn_meters  \n",
       "0           0  OX4 3UD  51.726362  -1.218138                           338.8  \n",
       "1           1  OX4 4NF  51.720830  -1.217460                          1197.6  \n",
       "2           1  OX4 4FW  51.719944  -1.226774                          1336.4  \n",
       "3           1  OX4 6NN  51.723830  -1.211400                          1807.2  \n",
       "4           1  OX4 4GF  51.721360  -1.221830                          1005.5  "
      ]
     },
     "execution_count": 7,
     "metadata": {},
     "output_type": "execute_result"
    }
   ],
   "source": [
    "streets = pd.read_csv(\"data/street_data.csv\")\n",
    "deprivation_by_lsoa = pd.read_csv(\"data/littlemore_deprivation_index_by_lsoa.csv\")\n",
    "littlemore_lsoa_mappings = pd.read_csv(\"data/littlemore_lsoa_mappings.csv\")\n",
    "streets.head()"
   ]
  },
  {
   "cell_type": "code",
   "execution_count": 8,
   "id": "23007a4a-d682-413f-9794-0a2d1548bc3b",
   "metadata": {},
   "outputs": [
    {
     "data": {
      "text/html": [
       "<div>\n",
       "<style scoped>\n",
       "    .dataframe tbody tr th:only-of-type {\n",
       "        vertical-align: middle;\n",
       "    }\n",
       "\n",
       "    .dataframe tbody tr th {\n",
       "        vertical-align: top;\n",
       "    }\n",
       "\n",
       "    .dataframe thead th {\n",
       "        text-align: right;\n",
       "    }\n",
       "</style>\n",
       "<table border=\"1\" class=\"dataframe\">\n",
       "  <thead>\n",
       "    <tr style=\"text-align: right;\">\n",
       "      <th></th>\n",
       "      <th>LSOA code (2011)</th>\n",
       "      <th>LSOA name (2011)</th>\n",
       "      <th>Local Authority District code (2019)</th>\n",
       "      <th>Local Authority District name (2019)</th>\n",
       "      <th>Overall Index of Multiple Deprivation (IMD) Score</th>\n",
       "      <th>Index of Multiple Deprivation (IMD) Rank (where 1 is most deprived)</th>\n",
       "      <th>Index of Multiple Deprivation (IMD) Decile (where 1 is most deprived 10% of LSOAs)</th>\n",
       "      <th>Income Score (rate)</th>\n",
       "      <th>Income Rank (where 1 is most deprived)</th>\n",
       "      <th>Income Decile (where 1 is most deprived 10% of LSOAs)</th>\n",
       "      <th>Total population: mid 2015 (excluding prisoners)</th>\n",
       "      <th>Dependent Children aged 0-15: mid 2015 (excluding prisoners)</th>\n",
       "      <th>Population aged 16-59: mid 2015 (excluding prisoners)</th>\n",
       "      <th>Older population aged 60 and over: mid 2015 (excluding prisoners)</th>\n",
       "      <th>Working age population 18-59/64: for use with Employment Deprivation Domain (excluding prisoners)</th>\n",
       "    </tr>\n",
       "  </thead>\n",
       "  <tbody>\n",
       "    <tr>\n",
       "      <th>0</th>\n",
       "      <td>E01028552</td>\n",
       "      <td>Oxford 016A</td>\n",
       "      <td>E07000178</td>\n",
       "      <td>Oxford</td>\n",
       "      <td>34.019</td>\n",
       "      <td>6262</td>\n",
       "      <td>2</td>\n",
       "      <td>0.249</td>\n",
       "      <td>4095</td>\n",
       "      <td>2</td>\n",
       "      <td>1782</td>\n",
       "      <td>481</td>\n",
       "      <td>1016</td>\n",
       "      <td>285</td>\n",
       "      <td>1034</td>\n",
       "    </tr>\n",
       "    <tr>\n",
       "      <th>1</th>\n",
       "      <td>E01028553</td>\n",
       "      <td>Oxford 016B</td>\n",
       "      <td>E07000178</td>\n",
       "      <td>Oxford</td>\n",
       "      <td>30.507</td>\n",
       "      <td>7785</td>\n",
       "      <td>3</td>\n",
       "      <td>0.164</td>\n",
       "      <td>9267</td>\n",
       "      <td>3</td>\n",
       "      <td>1775</td>\n",
       "      <td>376</td>\n",
       "      <td>1124</td>\n",
       "      <td>275</td>\n",
       "      <td>1150</td>\n",
       "    </tr>\n",
       "    <tr>\n",
       "      <th>2</th>\n",
       "      <td>E01028554</td>\n",
       "      <td>Oxford 016C</td>\n",
       "      <td>E07000178</td>\n",
       "      <td>Oxford</td>\n",
       "      <td>20.481</td>\n",
       "      <td>13951</td>\n",
       "      <td>5</td>\n",
       "      <td>0.153</td>\n",
       "      <td>10213</td>\n",
       "      <td>4</td>\n",
       "      <td>1389</td>\n",
       "      <td>268</td>\n",
       "      <td>843</td>\n",
       "      <td>278</td>\n",
       "      <td>858</td>\n",
       "    </tr>\n",
       "    <tr>\n",
       "      <th>3</th>\n",
       "      <td>E01028555</td>\n",
       "      <td>Oxford 016D</td>\n",
       "      <td>E07000178</td>\n",
       "      <td>Oxford</td>\n",
       "      <td>15.847</td>\n",
       "      <td>18079</td>\n",
       "      <td>6</td>\n",
       "      <td>0.081</td>\n",
       "      <td>19405</td>\n",
       "      <td>6</td>\n",
       "      <td>1544</td>\n",
       "      <td>314</td>\n",
       "      <td>945</td>\n",
       "      <td>285</td>\n",
       "      <td>944</td>\n",
       "    </tr>\n",
       "  </tbody>\n",
       "</table>\n",
       "</div>"
      ],
      "text/plain": [
       "  LSOA code (2011) LSOA name (2011) Local Authority District code (2019)  \\\n",
       "0        E01028552      Oxford 016A                            E07000178   \n",
       "1        E01028553      Oxford 016B                            E07000178   \n",
       "2        E01028554      Oxford 016C                            E07000178   \n",
       "3        E01028555      Oxford 016D                            E07000178   \n",
       "\n",
       "  Local Authority District name (2019)  \\\n",
       "0                               Oxford   \n",
       "1                               Oxford   \n",
       "2                               Oxford   \n",
       "3                               Oxford   \n",
       "\n",
       "   Overall Index of Multiple Deprivation (IMD) Score  \\\n",
       "0                                             34.019   \n",
       "1                                             30.507   \n",
       "2                                             20.481   \n",
       "3                                             15.847   \n",
       "\n",
       "   Index of Multiple Deprivation (IMD) Rank (where 1 is most deprived)  \\\n",
       "0                                               6262                     \n",
       "1                                               7785                     \n",
       "2                                              13951                     \n",
       "3                                              18079                     \n",
       "\n",
       "   Index of Multiple Deprivation (IMD) Decile (where 1 is most deprived 10% of LSOAs)  \\\n",
       "0                                                  2                                    \n",
       "1                                                  3                                    \n",
       "2                                                  5                                    \n",
       "3                                                  6                                    \n",
       "\n",
       "   Income Score (rate)  Income Rank (where 1 is most deprived)  \\\n",
       "0                0.249                                    4095   \n",
       "1                0.164                                    9267   \n",
       "2                0.153                                   10213   \n",
       "3                0.081                                   19405   \n",
       "\n",
       "   Income Decile (where 1 is most deprived 10% of LSOAs)  \\\n",
       "0                                                  2       \n",
       "1                                                  3       \n",
       "2                                                  4       \n",
       "3                                                  6       \n",
       "\n",
       "   Total population: mid 2015 (excluding prisoners)  \\\n",
       "0                                              1782   \n",
       "1                                              1775   \n",
       "2                                              1389   \n",
       "3                                              1544   \n",
       "\n",
       "   Dependent Children aged 0-15: mid 2015 (excluding prisoners)  \\\n",
       "0                                                481              \n",
       "1                                                376              \n",
       "2                                                268              \n",
       "3                                                314              \n",
       "\n",
       "   Population aged 16-59: mid 2015 (excluding prisoners)  \\\n",
       "0                                               1016       \n",
       "1                                               1124       \n",
       "2                                                843       \n",
       "3                                                945       \n",
       "\n",
       "   Older population aged 60 and over: mid 2015 (excluding prisoners)  \\\n",
       "0                                                285                   \n",
       "1                                                275                   \n",
       "2                                                278                   \n",
       "3                                                285                   \n",
       "\n",
       "   Working age population 18-59/64: for use with Employment Deprivation Domain (excluding prisoners)  \n",
       "0                                               1034                                                  \n",
       "1                                               1150                                                  \n",
       "2                                                858                                                  \n",
       "3                                                944                                                  "
      ]
     },
     "execution_count": 8,
     "metadata": {},
     "output_type": "execute_result"
    }
   ],
   "source": [
    "deprivation_by_lsoa.head()"
   ]
  },
  {
   "cell_type": "code",
   "execution_count": 9,
   "id": "71e47e9d-8dc8-4f35-a66d-83c6fd9ad977",
   "metadata": {},
   "outputs": [
    {
     "data": {
      "text/html": [
       "<div>\n",
       "<style scoped>\n",
       "    .dataframe tbody tr th:only-of-type {\n",
       "        vertical-align: middle;\n",
       "    }\n",
       "\n",
       "    .dataframe tbody tr th {\n",
       "        vertical-align: top;\n",
       "    }\n",
       "\n",
       "    .dataframe thead th {\n",
       "        text-align: right;\n",
       "    }\n",
       "</style>\n",
       "<table border=\"1\" class=\"dataframe\">\n",
       "  <thead>\n",
       "    <tr style=\"text-align: right;\">\n",
       "      <th></th>\n",
       "      <th>pcd7</th>\n",
       "      <th>pcd8</th>\n",
       "      <th>pcds</th>\n",
       "      <th>dointr</th>\n",
       "      <th>doterm</th>\n",
       "      <th>usertype</th>\n",
       "      <th>oa11cd</th>\n",
       "      <th>lsoa11cd</th>\n",
       "      <th>msoa11cd</th>\n",
       "      <th>ladcd</th>\n",
       "      <th>lsoa11nm</th>\n",
       "      <th>msoa11nm</th>\n",
       "      <th>ladnm</th>\n",
       "      <th>ladnmw</th>\n",
       "    </tr>\n",
       "  </thead>\n",
       "  <tbody>\n",
       "    <tr>\n",
       "      <th>0</th>\n",
       "      <td>OX4 4FW</td>\n",
       "      <td>OX4  4FW</td>\n",
       "      <td>OX4 4FW</td>\n",
       "      <td>201005</td>\n",
       "      <td>NaN</td>\n",
       "      <td>0</td>\n",
       "      <td>E00145477</td>\n",
       "      <td>E01028552</td>\n",
       "      <td>E02005955</td>\n",
       "      <td>E07000178</td>\n",
       "      <td>Oxford 016A</td>\n",
       "      <td>Oxford 016</td>\n",
       "      <td>Oxford</td>\n",
       "      <td>NaN</td>\n",
       "    </tr>\n",
       "    <tr>\n",
       "      <th>1</th>\n",
       "      <td>OX4 4GG</td>\n",
       "      <td>OX4  4GG</td>\n",
       "      <td>OX4 4GG</td>\n",
       "      <td>201012</td>\n",
       "      <td>NaN</td>\n",
       "      <td>0</td>\n",
       "      <td>E00145477</td>\n",
       "      <td>E01028552</td>\n",
       "      <td>E02005955</td>\n",
       "      <td>E07000178</td>\n",
       "      <td>Oxford 016A</td>\n",
       "      <td>Oxford 016</td>\n",
       "      <td>Oxford</td>\n",
       "      <td>NaN</td>\n",
       "    </tr>\n",
       "    <tr>\n",
       "      <th>2</th>\n",
       "      <td>OX4 4GQ</td>\n",
       "      <td>OX4  4GQ</td>\n",
       "      <td>OX4 4GQ</td>\n",
       "      <td>201506</td>\n",
       "      <td>NaN</td>\n",
       "      <td>0</td>\n",
       "      <td>E00145465</td>\n",
       "      <td>E01028552</td>\n",
       "      <td>E02005955</td>\n",
       "      <td>E07000178</td>\n",
       "      <td>Oxford 016A</td>\n",
       "      <td>Oxford 016</td>\n",
       "      <td>Oxford</td>\n",
       "      <td>NaN</td>\n",
       "    </tr>\n",
       "    <tr>\n",
       "      <th>3</th>\n",
       "      <td>OX4 4LD</td>\n",
       "      <td>OX4  4LD</td>\n",
       "      <td>OX4 4LD</td>\n",
       "      <td>198001</td>\n",
       "      <td>NaN</td>\n",
       "      <td>0</td>\n",
       "      <td>E00145474</td>\n",
       "      <td>E01028552</td>\n",
       "      <td>E02005955</td>\n",
       "      <td>E07000178</td>\n",
       "      <td>Oxford 016A</td>\n",
       "      <td>Oxford 016</td>\n",
       "      <td>Oxford</td>\n",
       "      <td>NaN</td>\n",
       "    </tr>\n",
       "    <tr>\n",
       "      <th>4</th>\n",
       "      <td>OX4 4LJ</td>\n",
       "      <td>OX4  4LJ</td>\n",
       "      <td>OX4 4LJ</td>\n",
       "      <td>198001</td>\n",
       "      <td>NaN</td>\n",
       "      <td>0</td>\n",
       "      <td>E00145477</td>\n",
       "      <td>E01028552</td>\n",
       "      <td>E02005955</td>\n",
       "      <td>E07000178</td>\n",
       "      <td>Oxford 016A</td>\n",
       "      <td>Oxford 016</td>\n",
       "      <td>Oxford</td>\n",
       "      <td>NaN</td>\n",
       "    </tr>\n",
       "  </tbody>\n",
       "</table>\n",
       "</div>"
      ],
      "text/plain": [
       "      pcd7      pcd8     pcds  dointr  doterm  usertype     oa11cd   lsoa11cd  \\\n",
       "0  OX4 4FW  OX4  4FW  OX4 4FW  201005     NaN         0  E00145477  E01028552   \n",
       "1  OX4 4GG  OX4  4GG  OX4 4GG  201012     NaN         0  E00145477  E01028552   \n",
       "2  OX4 4GQ  OX4  4GQ  OX4 4GQ  201506     NaN         0  E00145465  E01028552   \n",
       "3  OX4 4LD  OX4  4LD  OX4 4LD  198001     NaN         0  E00145474  E01028552   \n",
       "4  OX4 4LJ  OX4  4LJ  OX4 4LJ  198001     NaN         0  E00145477  E01028552   \n",
       "\n",
       "    msoa11cd      ladcd     lsoa11nm    msoa11nm   ladnm  ladnmw  \n",
       "0  E02005955  E07000178  Oxford 016A  Oxford 016  Oxford     NaN  \n",
       "1  E02005955  E07000178  Oxford 016A  Oxford 016  Oxford     NaN  \n",
       "2  E02005955  E07000178  Oxford 016A  Oxford 016  Oxford     NaN  \n",
       "3  E02005955  E07000178  Oxford 016A  Oxford 016  Oxford     NaN  \n",
       "4  E02005955  E07000178  Oxford 016A  Oxford 016  Oxford     NaN  "
      ]
     },
     "execution_count": 9,
     "metadata": {},
     "output_type": "execute_result"
    }
   ],
   "source": [
    "littlemore_lsoa_mappings.head()"
   ]
  },
  {
   "cell_type": "markdown",
   "id": "187c508c-9b6d-43d8-af9d-fb2cc6fa1571",
   "metadata": {},
   "source": [
    "Join some of these columns to get deprivation index in `streets` dataframe"
   ]
  },
  {
   "cell_type": "code",
   "execution_count": 10,
   "id": "fd5195b6-104b-48ed-b087-ccb53ac4aab6",
   "metadata": {},
   "outputs": [
    {
     "data": {
      "text/html": [
       "<div>\n",
       "<style scoped>\n",
       "    .dataframe tbody tr th:only-of-type {\n",
       "        vertical-align: middle;\n",
       "    }\n",
       "\n",
       "    .dataframe tbody tr th {\n",
       "        vertical-align: top;\n",
       "    }\n",
       "\n",
       "    .dataframe thead th {\n",
       "        text-align: right;\n",
       "    }\n",
       "</style>\n",
       "<table border=\"1\" class=\"dataframe\">\n",
       "  <thead>\n",
       "    <tr style=\"text-align: right;\">\n",
       "      <th></th>\n",
       "      <th>postcode</th>\n",
       "      <th>lsoa</th>\n",
       "      <th>imd_score</th>\n",
       "    </tr>\n",
       "  </thead>\n",
       "  <tbody>\n",
       "    <tr>\n",
       "      <th>0</th>\n",
       "      <td>OX4 4FW</td>\n",
       "      <td>E01028552</td>\n",
       "      <td>34.019</td>\n",
       "    </tr>\n",
       "    <tr>\n",
       "      <th>1</th>\n",
       "      <td>OX4 4GG</td>\n",
       "      <td>E01028552</td>\n",
       "      <td>34.019</td>\n",
       "    </tr>\n",
       "    <tr>\n",
       "      <th>2</th>\n",
       "      <td>OX4 4GQ</td>\n",
       "      <td>E01028552</td>\n",
       "      <td>34.019</td>\n",
       "    </tr>\n",
       "    <tr>\n",
       "      <th>3</th>\n",
       "      <td>OX4 4LD</td>\n",
       "      <td>E01028552</td>\n",
       "      <td>34.019</td>\n",
       "    </tr>\n",
       "    <tr>\n",
       "      <th>4</th>\n",
       "      <td>OX4 4LJ</td>\n",
       "      <td>E01028552</td>\n",
       "      <td>34.019</td>\n",
       "    </tr>\n",
       "  </tbody>\n",
       "</table>\n",
       "</div>"
      ],
      "text/plain": [
       "  postcode       lsoa  imd_score\n",
       "0  OX4 4FW  E01028552     34.019\n",
       "1  OX4 4GG  E01028552     34.019\n",
       "2  OX4 4GQ  E01028552     34.019\n",
       "3  OX4 4LD  E01028552     34.019\n",
       "4  OX4 4LJ  E01028552     34.019"
      ]
     },
     "execution_count": 10,
     "metadata": {},
     "output_type": "execute_result"
    }
   ],
   "source": [
    "postcodes = pd.merge(\n",
    "    littlemore_lsoa_mappings[[\"pcd7\", \"lsoa11cd\"]],\n",
    "    deprivation_by_lsoa[[\"LSOA code (2011)\", \"Overall Index of Multiple Deprivation (IMD) Score\"]],\n",
    "    left_on=\"lsoa11cd\",\n",
    "    right_on=\"LSOA code (2011)\",\n",
    ")\n",
    "postcodes.drop(\"LSOA code (2011)\", axis=1, inplace=True)\n",
    "postcodes.rename(\n",
    "    columns={\n",
    "        \"pcd7\": \"postcode\",\n",
    "        \"lsoa11cd\": \"lsoa\",\n",
    "        \"Overall Index of Multiple Deprivation (IMD) Score\": \"imd_score\",\n",
    "    },\n",
    "    inplace=True,\n",
    ")\n",
    "postcodes.head()"
   ]
  },
  {
   "cell_type": "markdown",
   "id": "9697d96f-cb7b-4d0f-8771-7819425d6d80",
   "metadata": {},
   "source": [
    "Merge with streets data"
   ]
  },
  {
   "cell_type": "code",
   "execution_count": 11,
   "id": "04c59b5f-5cce-4616-8d5e-36d91930a16b",
   "metadata": {},
   "outputs": [
    {
     "data": {
      "text/html": [
       "<div>\n",
       "<style scoped>\n",
       "    .dataframe tbody tr th:only-of-type {\n",
       "        vertical-align: middle;\n",
       "    }\n",
       "\n",
       "    .dataframe tbody tr th {\n",
       "        vertical-align: top;\n",
       "    }\n",
       "\n",
       "    .dataframe thead th {\n",
       "        text-align: right;\n",
       "    }\n",
       "</style>\n",
       "<table border=\"1\" class=\"dataframe\">\n",
       "  <thead>\n",
       "    <tr style=\"text-align: right;\">\n",
       "      <th></th>\n",
       "      <th>street</th>\n",
       "      <th>count</th>\n",
       "      <th>inside_ltn</th>\n",
       "      <th>borders_ltn</th>\n",
       "      <th>in_littlemore_parish</th>\n",
       "      <th>cul_de_sac</th>\n",
       "      <th>postcode</th>\n",
       "      <th>latitude</th>\n",
       "      <th>longitude</th>\n",
       "      <th>driving_distance_to_ltn_meters</th>\n",
       "    </tr>\n",
       "  </thead>\n",
       "  <tbody>\n",
       "    <tr>\n",
       "      <th>0</th>\n",
       "      <td>Addison Drive</td>\n",
       "      <td>19</td>\n",
       "      <td>1</td>\n",
       "      <td>0</td>\n",
       "      <td>1</td>\n",
       "      <td>0</td>\n",
       "      <td>OX4 3UD</td>\n",
       "      <td>51.726362</td>\n",
       "      <td>-1.218138</td>\n",
       "      <td>338.8</td>\n",
       "    </tr>\n",
       "    <tr>\n",
       "      <th>1</th>\n",
       "      <td>Alice Smith Square</td>\n",
       "      <td>95</td>\n",
       "      <td>0</td>\n",
       "      <td>0</td>\n",
       "      <td>1</td>\n",
       "      <td>1</td>\n",
       "      <td>OX4 4NF</td>\n",
       "      <td>51.720830</td>\n",
       "      <td>-1.217460</td>\n",
       "      <td>1197.6</td>\n",
       "    </tr>\n",
       "    <tr>\n",
       "      <th>2</th>\n",
       "      <td>Astrop Lane</td>\n",
       "      <td>18</td>\n",
       "      <td>0</td>\n",
       "      <td>0</td>\n",
       "      <td>1</td>\n",
       "      <td>1</td>\n",
       "      <td>OX4 4FW</td>\n",
       "      <td>51.719944</td>\n",
       "      <td>-1.226774</td>\n",
       "      <td>1336.4</td>\n",
       "    </tr>\n",
       "    <tr>\n",
       "      <th>3</th>\n",
       "      <td>Bampton Close</td>\n",
       "      <td>30</td>\n",
       "      <td>0</td>\n",
       "      <td>0</td>\n",
       "      <td>1</td>\n",
       "      <td>1</td>\n",
       "      <td>OX4 6NN</td>\n",
       "      <td>51.723830</td>\n",
       "      <td>-1.211400</td>\n",
       "      <td>1807.2</td>\n",
       "    </tr>\n",
       "    <tr>\n",
       "      <th>4</th>\n",
       "      <td>Barberi Close</td>\n",
       "      <td>24</td>\n",
       "      <td>0</td>\n",
       "      <td>0</td>\n",
       "      <td>1</td>\n",
       "      <td>1</td>\n",
       "      <td>OX4 4GF</td>\n",
       "      <td>51.721360</td>\n",
       "      <td>-1.221830</td>\n",
       "      <td>1005.5</td>\n",
       "    </tr>\n",
       "  </tbody>\n",
       "</table>\n",
       "</div>"
      ],
      "text/plain": [
       "               street  count  inside_ltn  borders_ltn  in_littlemore_parish  \\\n",
       "0       Addison Drive     19           1            0                     1   \n",
       "1  Alice Smith Square     95           0            0                     1   \n",
       "2         Astrop Lane     18           0            0                     1   \n",
       "3       Bampton Close     30           0            0                     1   \n",
       "4       Barberi Close     24           0            0                     1   \n",
       "\n",
       "   cul_de_sac postcode   latitude  longitude  driving_distance_to_ltn_meters  \n",
       "0           0  OX4 3UD  51.726362  -1.218138                           338.8  \n",
       "1           1  OX4 4NF  51.720830  -1.217460                          1197.6  \n",
       "2           1  OX4 4FW  51.719944  -1.226774                          1336.4  \n",
       "3           1  OX4 6NN  51.723830  -1.211400                          1807.2  \n",
       "4           1  OX4 4GF  51.721360  -1.221830                          1005.5  "
      ]
     },
     "execution_count": 11,
     "metadata": {},
     "output_type": "execute_result"
    }
   ],
   "source": [
    "streets.merge(postcodes, left_on=\"postcode\", right_on=\"postcode\")\n",
    "streets.head()"
   ]
  },
  {
   "cell_type": "code",
   "execution_count": 12,
   "id": "88434ef4-92d1-4da1-883f-7700fd7a72a6",
   "metadata": {},
   "outputs": [
    {
     "data": {
      "text/html": [
       "<div>\n",
       "<style scoped>\n",
       "    .dataframe tbody tr th:only-of-type {\n",
       "        vertical-align: middle;\n",
       "    }\n",
       "\n",
       "    .dataframe tbody tr th {\n",
       "        vertical-align: top;\n",
       "    }\n",
       "\n",
       "    .dataframe thead th {\n",
       "        text-align: right;\n",
       "    }\n",
       "</style>\n",
       "<table border=\"1\" class=\"dataframe\">\n",
       "  <thead>\n",
       "    <tr style=\"text-align: right;\">\n",
       "      <th></th>\n",
       "      <th>street</th>\n",
       "      <th>count</th>\n",
       "      <th>inside_ltn</th>\n",
       "      <th>borders_ltn</th>\n",
       "      <th>outside_ltn</th>\n",
       "      <th>in_littlemore_parish</th>\n",
       "      <th>cul_de_sac</th>\n",
       "      <th>postcode</th>\n",
       "      <th>latitude</th>\n",
       "      <th>longitude</th>\n",
       "      <th>driving_distance_to_ltn_meters</th>\n",
       "    </tr>\n",
       "  </thead>\n",
       "  <tbody>\n",
       "    <tr>\n",
       "      <th>0</th>\n",
       "      <td>Addison Drive</td>\n",
       "      <td>19</td>\n",
       "      <td>True</td>\n",
       "      <td>False</td>\n",
       "      <td>False</td>\n",
       "      <td>True</td>\n",
       "      <td>False</td>\n",
       "      <td>OX4 3UD</td>\n",
       "      <td>51.726362</td>\n",
       "      <td>-1.218138</td>\n",
       "      <td>338.8</td>\n",
       "    </tr>\n",
       "    <tr>\n",
       "      <th>1</th>\n",
       "      <td>Alice Smith Square</td>\n",
       "      <td>95</td>\n",
       "      <td>False</td>\n",
       "      <td>False</td>\n",
       "      <td>True</td>\n",
       "      <td>True</td>\n",
       "      <td>True</td>\n",
       "      <td>OX4 4NF</td>\n",
       "      <td>51.720830</td>\n",
       "      <td>-1.217460</td>\n",
       "      <td>1197.6</td>\n",
       "    </tr>\n",
       "    <tr>\n",
       "      <th>2</th>\n",
       "      <td>Astrop Lane</td>\n",
       "      <td>18</td>\n",
       "      <td>False</td>\n",
       "      <td>False</td>\n",
       "      <td>True</td>\n",
       "      <td>True</td>\n",
       "      <td>True</td>\n",
       "      <td>OX4 4FW</td>\n",
       "      <td>51.719944</td>\n",
       "      <td>-1.226774</td>\n",
       "      <td>1336.4</td>\n",
       "    </tr>\n",
       "    <tr>\n",
       "      <th>3</th>\n",
       "      <td>Bampton Close</td>\n",
       "      <td>30</td>\n",
       "      <td>False</td>\n",
       "      <td>False</td>\n",
       "      <td>True</td>\n",
       "      <td>True</td>\n",
       "      <td>True</td>\n",
       "      <td>OX4 6NN</td>\n",
       "      <td>51.723830</td>\n",
       "      <td>-1.211400</td>\n",
       "      <td>1807.2</td>\n",
       "    </tr>\n",
       "    <tr>\n",
       "      <th>4</th>\n",
       "      <td>Barberi Close</td>\n",
       "      <td>24</td>\n",
       "      <td>False</td>\n",
       "      <td>False</td>\n",
       "      <td>True</td>\n",
       "      <td>True</td>\n",
       "      <td>True</td>\n",
       "      <td>OX4 4GF</td>\n",
       "      <td>51.721360</td>\n",
       "      <td>-1.221830</td>\n",
       "      <td>1005.5</td>\n",
       "    </tr>\n",
       "  </tbody>\n",
       "</table>\n",
       "</div>"
      ],
      "text/plain": [
       "               street  count  inside_ltn  borders_ltn  outside_ltn  \\\n",
       "0       Addison Drive     19        True        False        False   \n",
       "1  Alice Smith Square     95       False        False         True   \n",
       "2         Astrop Lane     18       False        False         True   \n",
       "3       Bampton Close     30       False        False         True   \n",
       "4       Barberi Close     24       False        False         True   \n",
       "\n",
       "   in_littlemore_parish  cul_de_sac postcode   latitude  longitude  \\\n",
       "0                  True       False  OX4 3UD  51.726362  -1.218138   \n",
       "1                  True        True  OX4 4NF  51.720830  -1.217460   \n",
       "2                  True        True  OX4 4FW  51.719944  -1.226774   \n",
       "3                  True        True  OX4 6NN  51.723830  -1.211400   \n",
       "4                  True        True  OX4 4GF  51.721360  -1.221830   \n",
       "\n",
       "   driving_distance_to_ltn_meters  \n",
       "0                           338.8  \n",
       "1                          1197.6  \n",
       "2                          1336.4  \n",
       "3                          1807.2  \n",
       "4                          1005.5  "
      ]
     },
     "execution_count": 12,
     "metadata": {},
     "output_type": "execute_result"
    }
   ],
   "source": [
    "# Convert various columns to booleans\n",
    "streets[\"cul_de_sac\"] = streets[\"cul_de_sac\"].astype(\"bool\")\n",
    "streets[\"inside_ltn\"] = streets[\"inside_ltn\"].astype(\"bool\")\n",
    "streets[\"borders_ltn\"] = streets[\"borders_ltn\"].astype(\"bool\")\n",
    "streets[\"outside_ltn\"] = ~streets[[\"inside_ltn\", \"borders_ltn\"]].any(\n",
    "    axis=\"columns\"\n",
    ")  # note the negation\n",
    "streets[\"in_littlemore_parish\"] = streets[\"in_littlemore_parish\"].astype(\"bool\")\n",
    "streets = streets[\n",
    "    [\n",
    "        \"street\",\n",
    "        \"count\",\n",
    "        \"inside_ltn\",\n",
    "        \"borders_ltn\",\n",
    "        \"outside_ltn\",\n",
    "        \"in_littlemore_parish\",\n",
    "        \"cul_de_sac\",\n",
    "        \"postcode\",\n",
    "        \"latitude\",\n",
    "        \"longitude\",\n",
    "        \"driving_distance_to_ltn_meters\",\n",
    "    ]\n",
    "]\n",
    "streets.head()"
   ]
  },
  {
   "cell_type": "markdown",
   "id": "d038e88b-d409-4778-a579-3986aa0c8b08",
   "metadata": {},
   "source": [
    "Merge with full data"
   ]
  },
  {
   "cell_type": "code",
   "execution_count": 13,
   "id": "d6495043-66d7-404f-b188-7a29727212f9",
   "metadata": {},
   "outputs": [
    {
     "data": {
      "text/plain": [
       "Index(['timestamp', 'email', 'street', '1_reduce_traffic', '2_car_before',\n",
       "       '2_car_after', '2_motorbike_before', '2_motorbike_after',\n",
       "       '2_van_before', '2_van_after', '2_bus_before', '2_bus_after',\n",
       "       '2_foot_before', '2_foot_after', '2_wheelchair_before',\n",
       "       '2_wheelchair_after', '2_bike_before', '2_bike_after',\n",
       "       '2_scooter_before', '2_scooter_after', '3_drive_reasons',\n",
       "       '4_ltn_impact', '5_church_hill_road', '5_beauchamp_lane',\n",
       "       '5_littlemore_road', '5_mayfair_road', '5_liddell_road',\n",
       "       '5_bartholomew_road', '6_ltn_future', '7_ltn_benefit', '8_ltn_problem',\n",
       "       '9_consultation', '10_traffic_ideas', 'Unnamed: 33', 'count',\n",
       "       'inside_ltn', 'borders_ltn', 'outside_ltn', 'in_littlemore_parish',\n",
       "       'cul_de_sac', 'postcode', 'latitude', 'longitude',\n",
       "       'driving_distance_to_ltn_meters'],\n",
       "      dtype='object')"
      ]
     },
     "execution_count": 13,
     "metadata": {},
     "output_type": "execute_result"
    }
   ],
   "source": [
    "df = pd.merge(df, streets, how=\"left\", on=\"street\")\n",
    "df.columns"
   ]
  },
  {
   "cell_type": "markdown",
   "id": "f24051e2-7311-4845-8e03-72a409f6283a",
   "metadata": {},
   "source": [
    "## Proportions of streets covered"
   ]
  },
  {
   "cell_type": "code",
   "execution_count": 14,
   "id": "35d6362e-7f94-458c-a7be-ff549e7431ea",
   "metadata": {},
   "outputs": [],
   "source": [
    "freq_count_by_street = df[\"street\"].value_counts().to_frame().reset_index()\n",
    "freq_count_by_street = freq_count_by_street.rename(columns={\"street\": \"count\", \"index\": \"street\"})"
   ]
  },
  {
   "cell_type": "code",
   "execution_count": 15,
   "id": "879f133f-18e1-4aeb-8976-352de20fb200",
   "metadata": {
    "tags": []
   },
   "outputs": [
    {
     "data": {
      "text/html": [
       "<div>\n",
       "<style scoped>\n",
       "    .dataframe tbody tr th:only-of-type {\n",
       "        vertical-align: middle;\n",
       "    }\n",
       "\n",
       "    .dataframe tbody tr th {\n",
       "        vertical-align: top;\n",
       "    }\n",
       "\n",
       "    .dataframe thead th {\n",
       "        text-align: right;\n",
       "    }\n",
       "</style>\n",
       "<table border=\"1\" class=\"dataframe\">\n",
       "  <thead>\n",
       "    <tr style=\"text-align: right;\">\n",
       "      <th></th>\n",
       "      <th>street</th>\n",
       "      <th>total</th>\n",
       "      <th>num_responses</th>\n",
       "      <th>coverage</th>\n",
       "    </tr>\n",
       "  </thead>\n",
       "  <tbody>\n",
       "    <tr>\n",
       "      <th>22</th>\n",
       "      <td>Fairlie Road</td>\n",
       "      <td>16</td>\n",
       "      <td>14.0</td>\n",
       "      <td>87.500000</td>\n",
       "    </tr>\n",
       "    <tr>\n",
       "      <th>38</th>\n",
       "      <td>Long Wall</td>\n",
       "      <td>12</td>\n",
       "      <td>10.0</td>\n",
       "      <td>83.333333</td>\n",
       "    </tr>\n",
       "    <tr>\n",
       "      <th>56</th>\n",
       "      <td>Sandford Road</td>\n",
       "      <td>17</td>\n",
       "      <td>12.0</td>\n",
       "      <td>70.588235</td>\n",
       "    </tr>\n",
       "    <tr>\n",
       "      <th>50</th>\n",
       "      <td>Pipley Furlong</td>\n",
       "      <td>17</td>\n",
       "      <td>11.0</td>\n",
       "      <td>64.705882</td>\n",
       "    </tr>\n",
       "    <tr>\n",
       "      <th>14</th>\n",
       "      <td>Compass Close</td>\n",
       "      <td>14</td>\n",
       "      <td>9.0</td>\n",
       "      <td>64.285714</td>\n",
       "    </tr>\n",
       "    <tr>\n",
       "      <th>59</th>\n",
       "      <td>Spring Lane</td>\n",
       "      <td>35</td>\n",
       "      <td>22.0</td>\n",
       "      <td>62.857143</td>\n",
       "    </tr>\n",
       "    <tr>\n",
       "      <th>18</th>\n",
       "      <td>Dudgeon Drive</td>\n",
       "      <td>34</td>\n",
       "      <td>21.0</td>\n",
       "      <td>61.764706</td>\n",
       "    </tr>\n",
       "    <tr>\n",
       "      <th>55</th>\n",
       "      <td>Redmoor Close</td>\n",
       "      <td>15</td>\n",
       "      <td>9.0</td>\n",
       "      <td>60.000000</td>\n",
       "    </tr>\n",
       "    <tr>\n",
       "      <th>20</th>\n",
       "      <td>Elm Tree Close</td>\n",
       "      <td>10</td>\n",
       "      <td>6.0</td>\n",
       "      <td>60.000000</td>\n",
       "    </tr>\n",
       "    <tr>\n",
       "      <th>6</th>\n",
       "      <td>Broadfields</td>\n",
       "      <td>53</td>\n",
       "      <td>31.0</td>\n",
       "      <td>58.490566</td>\n",
       "    </tr>\n",
       "    <tr>\n",
       "      <th>41</th>\n",
       "      <td>Mayfair Road</td>\n",
       "      <td>55</td>\n",
       "      <td>28.0</td>\n",
       "      <td>50.909091</td>\n",
       "    </tr>\n",
       "    <tr>\n",
       "      <th>54</th>\n",
       "      <td>Railway Lane</td>\n",
       "      <td>8</td>\n",
       "      <td>4.0</td>\n",
       "      <td>50.000000</td>\n",
       "    </tr>\n",
       "    <tr>\n",
       "      <th>49</th>\n",
       "      <td>Oxford Road</td>\n",
       "      <td>64</td>\n",
       "      <td>30.0</td>\n",
       "      <td>46.875000</td>\n",
       "    </tr>\n",
       "    <tr>\n",
       "      <th>12</th>\n",
       "      <td>Chestnut Close</td>\n",
       "      <td>12</td>\n",
       "      <td>5.0</td>\n",
       "      <td>41.666667</td>\n",
       "    </tr>\n",
       "    <tr>\n",
       "      <th>46</th>\n",
       "      <td>Newman Road</td>\n",
       "      <td>34</td>\n",
       "      <td>14.0</td>\n",
       "      <td>41.176471</td>\n",
       "    </tr>\n",
       "    <tr>\n",
       "      <th>36</th>\n",
       "      <td>Littlemore Road</td>\n",
       "      <td>49</td>\n",
       "      <td>20.0</td>\n",
       "      <td>40.816327</td>\n",
       "    </tr>\n",
       "    <tr>\n",
       "      <th>13</th>\n",
       "      <td>College Lane</td>\n",
       "      <td>20</td>\n",
       "      <td>8.0</td>\n",
       "      <td>40.000000</td>\n",
       "    </tr>\n",
       "    <tr>\n",
       "      <th>2</th>\n",
       "      <td>Astrop Lane</td>\n",
       "      <td>18</td>\n",
       "      <td>7.0</td>\n",
       "      <td>38.888889</td>\n",
       "    </tr>\n",
       "    <tr>\n",
       "      <th>52</th>\n",
       "      <td>Pulker Close</td>\n",
       "      <td>18</td>\n",
       "      <td>7.0</td>\n",
       "      <td>38.888889</td>\n",
       "    </tr>\n",
       "    <tr>\n",
       "      <th>1</th>\n",
       "      <td>Alice Smith Square</td>\n",
       "      <td>95</td>\n",
       "      <td>36.0</td>\n",
       "      <td>37.894737</td>\n",
       "    </tr>\n",
       "    <tr>\n",
       "      <th>33</th>\n",
       "      <td>Lakefield Road</td>\n",
       "      <td>51</td>\n",
       "      <td>19.0</td>\n",
       "      <td>37.254902</td>\n",
       "    </tr>\n",
       "    <tr>\n",
       "      <th>16</th>\n",
       "      <td>David Nicholls Close</td>\n",
       "      <td>11</td>\n",
       "      <td>4.0</td>\n",
       "      <td>36.363636</td>\n",
       "    </tr>\n",
       "    <tr>\n",
       "      <th>26</th>\n",
       "      <td>Grange Road</td>\n",
       "      <td>32</td>\n",
       "      <td>11.0</td>\n",
       "      <td>34.375000</td>\n",
       "    </tr>\n",
       "    <tr>\n",
       "      <th>9</th>\n",
       "      <td>Carpenter Close</td>\n",
       "      <td>15</td>\n",
       "      <td>5.0</td>\n",
       "      <td>33.333333</td>\n",
       "    </tr>\n",
       "    <tr>\n",
       "      <th>37</th>\n",
       "      <td>Long Lane</td>\n",
       "      <td>72</td>\n",
       "      <td>23.0</td>\n",
       "      <td>31.944444</td>\n",
       "    </tr>\n",
       "    <tr>\n",
       "      <th>30</th>\n",
       "      <td>Hillsale Piece</td>\n",
       "      <td>17</td>\n",
       "      <td>5.0</td>\n",
       "      <td>29.411765</td>\n",
       "    </tr>\n",
       "    <tr>\n",
       "      <th>31</th>\n",
       "      <td>Hillsborough Close</td>\n",
       "      <td>22</td>\n",
       "      <td>6.0</td>\n",
       "      <td>27.272727</td>\n",
       "    </tr>\n",
       "    <tr>\n",
       "      <th>11</th>\n",
       "      <td>Chapel Lane</td>\n",
       "      <td>24</td>\n",
       "      <td>6.0</td>\n",
       "      <td>25.000000</td>\n",
       "    </tr>\n",
       "    <tr>\n",
       "      <th>4</th>\n",
       "      <td>Barberi Close</td>\n",
       "      <td>24</td>\n",
       "      <td>6.0</td>\n",
       "      <td>25.000000</td>\n",
       "    </tr>\n",
       "    <tr>\n",
       "      <th>45</th>\n",
       "      <td>Minchery Road</td>\n",
       "      <td>91</td>\n",
       "      <td>22.0</td>\n",
       "      <td>24.175824</td>\n",
       "    </tr>\n",
       "    <tr>\n",
       "      <th>3</th>\n",
       "      <td>Bampton Close</td>\n",
       "      <td>30</td>\n",
       "      <td>7.0</td>\n",
       "      <td>23.333333</td>\n",
       "    </tr>\n",
       "    <tr>\n",
       "      <th>34</th>\n",
       "      <td>Lanham Way</td>\n",
       "      <td>9</td>\n",
       "      <td>2.0</td>\n",
       "      <td>22.222222</td>\n",
       "    </tr>\n",
       "    <tr>\n",
       "      <th>10</th>\n",
       "      <td>Champion Way</td>\n",
       "      <td>50</td>\n",
       "      <td>11.0</td>\n",
       "      <td>22.000000</td>\n",
       "    </tr>\n",
       "    <tr>\n",
       "      <th>61</th>\n",
       "      <td>St Nicholas Road</td>\n",
       "      <td>89</td>\n",
       "      <td>19.0</td>\n",
       "      <td>21.348315</td>\n",
       "    </tr>\n",
       "    <tr>\n",
       "      <th>5</th>\n",
       "      <td>Bodley Road</td>\n",
       "      <td>89</td>\n",
       "      <td>16.0</td>\n",
       "      <td>17.977528</td>\n",
       "    </tr>\n",
       "    <tr>\n",
       "      <th>8</th>\n",
       "      <td>Cardinal Close</td>\n",
       "      <td>79</td>\n",
       "      <td>13.0</td>\n",
       "      <td>16.455696</td>\n",
       "    </tr>\n",
       "    <tr>\n",
       "      <th>15</th>\n",
       "      <td>Cowley Road, Littlemore</td>\n",
       "      <td>114</td>\n",
       "      <td>18.0</td>\n",
       "      <td>15.789474</td>\n",
       "    </tr>\n",
       "    <tr>\n",
       "      <th>39</th>\n",
       "      <td>Mandelbrote Drive</td>\n",
       "      <td>139</td>\n",
       "      <td>19.0</td>\n",
       "      <td>13.669065</td>\n",
       "    </tr>\n",
       "    <tr>\n",
       "      <th>35</th>\n",
       "      <td>Lawn Upton Close</td>\n",
       "      <td>27</td>\n",
       "      <td>2.0</td>\n",
       "      <td>7.407407</td>\n",
       "    </tr>\n",
       "    <tr>\n",
       "      <th>40</th>\n",
       "      <td>Marlborough Close</td>\n",
       "      <td>53</td>\n",
       "      <td>1.0</td>\n",
       "      <td>1.886792</td>\n",
       "    </tr>\n",
       "    <tr>\n",
       "      <th>42</th>\n",
       "      <td>Medhurst Way</td>\n",
       "      <td>82</td>\n",
       "      <td>1.0</td>\n",
       "      <td>1.219512</td>\n",
       "    </tr>\n",
       "  </tbody>\n",
       "</table>\n",
       "</div>"
      ],
      "text/plain": [
       "                     street  total  num_responses   coverage\n",
       "22             Fairlie Road     16           14.0  87.500000\n",
       "38                Long Wall     12           10.0  83.333333\n",
       "56            Sandford Road     17           12.0  70.588235\n",
       "50           Pipley Furlong     17           11.0  64.705882\n",
       "14            Compass Close     14            9.0  64.285714\n",
       "59              Spring Lane     35           22.0  62.857143\n",
       "18            Dudgeon Drive     34           21.0  61.764706\n",
       "55            Redmoor Close     15            9.0  60.000000\n",
       "20           Elm Tree Close     10            6.0  60.000000\n",
       "6               Broadfields     53           31.0  58.490566\n",
       "41             Mayfair Road     55           28.0  50.909091\n",
       "54             Railway Lane      8            4.0  50.000000\n",
       "49              Oxford Road     64           30.0  46.875000\n",
       "12           Chestnut Close     12            5.0  41.666667\n",
       "46              Newman Road     34           14.0  41.176471\n",
       "36          Littlemore Road     49           20.0  40.816327\n",
       "13             College Lane     20            8.0  40.000000\n",
       "2               Astrop Lane     18            7.0  38.888889\n",
       "52             Pulker Close     18            7.0  38.888889\n",
       "1        Alice Smith Square     95           36.0  37.894737\n",
       "33           Lakefield Road     51           19.0  37.254902\n",
       "16     David Nicholls Close     11            4.0  36.363636\n",
       "26              Grange Road     32           11.0  34.375000\n",
       "9           Carpenter Close     15            5.0  33.333333\n",
       "37                Long Lane     72           23.0  31.944444\n",
       "30           Hillsale Piece     17            5.0  29.411765\n",
       "31       Hillsborough Close     22            6.0  27.272727\n",
       "11              Chapel Lane     24            6.0  25.000000\n",
       "4             Barberi Close     24            6.0  25.000000\n",
       "45            Minchery Road     91           22.0  24.175824\n",
       "3             Bampton Close     30            7.0  23.333333\n",
       "34               Lanham Way      9            2.0  22.222222\n",
       "10             Champion Way     50           11.0  22.000000\n",
       "61         St Nicholas Road     89           19.0  21.348315\n",
       "5               Bodley Road     89           16.0  17.977528\n",
       "8            Cardinal Close     79           13.0  16.455696\n",
       "15  Cowley Road, Littlemore    114           18.0  15.789474\n",
       "39        Mandelbrote Drive    139           19.0  13.669065\n",
       "35         Lawn Upton Close     27            2.0   7.407407\n",
       "40        Marlborough Close     53            1.0   1.886792\n",
       "42             Medhurst Way     82            1.0   1.219512"
      ]
     },
     "execution_count": 15,
     "metadata": {},
     "output_type": "execute_result"
    }
   ],
   "source": [
    "coverage = pd.merge(streets, freq_count_by_street, how=\"left\", on=[\"street\"]).rename(\n",
    "    columns={\"count_x\": \"total\", \"count_y\": \"num_responses\"}\n",
    ")\n",
    "coverage[\"coverage\"] = 100 * coverage[\"num_responses\"] / coverage[\"total\"]\n",
    "coverage[coverage[\"coverage\"].notna()].sort_values(by=[\"coverage\"], ascending=False)[\n",
    "    [\"street\", \"total\", \"num_responses\", \"coverage\"]\n",
    "]"
   ]
  },
  {
   "cell_type": "code",
   "execution_count": 16,
   "id": "7147b98b-6a27-49c2-9c85-d1e03bc6e596",
   "metadata": {
    "tags": []
   },
   "outputs": [
    {
     "data": {
      "text/html": [
       "<div>\n",
       "<style scoped>\n",
       "    .dataframe tbody tr th:only-of-type {\n",
       "        vertical-align: middle;\n",
       "    }\n",
       "\n",
       "    .dataframe tbody tr th {\n",
       "        vertical-align: top;\n",
       "    }\n",
       "\n",
       "    .dataframe thead th {\n",
       "        text-align: right;\n",
       "    }\n",
       "</style>\n",
       "<table border=\"1\" class=\"dataframe\">\n",
       "  <thead>\n",
       "    <tr style=\"text-align: right;\">\n",
       "      <th></th>\n",
       "      <th>street</th>\n",
       "      <th>total</th>\n",
       "      <th>num_responses</th>\n",
       "      <th>coverage</th>\n",
       "    </tr>\n",
       "  </thead>\n",
       "  <tbody>\n",
       "    <tr>\n",
       "      <th>0</th>\n",
       "      <td>Addison Drive</td>\n",
       "      <td>19</td>\n",
       "      <td>NaN</td>\n",
       "      <td>NaN</td>\n",
       "    </tr>\n",
       "    <tr>\n",
       "      <th>7</th>\n",
       "      <td>Brocklesby Road</td>\n",
       "      <td>18</td>\n",
       "      <td>NaN</td>\n",
       "      <td>NaN</td>\n",
       "    </tr>\n",
       "    <tr>\n",
       "      <th>17</th>\n",
       "      <td>Denny Gardens</td>\n",
       "      <td>48</td>\n",
       "      <td>NaN</td>\n",
       "      <td>NaN</td>\n",
       "    </tr>\n",
       "    <tr>\n",
       "      <th>19</th>\n",
       "      <td>Eastern Avenue</td>\n",
       "      <td>64</td>\n",
       "      <td>NaN</td>\n",
       "      <td>NaN</td>\n",
       "    </tr>\n",
       "    <tr>\n",
       "      <th>21</th>\n",
       "      <td>Faber Close</td>\n",
       "      <td>8</td>\n",
       "      <td>NaN</td>\n",
       "      <td>NaN</td>\n",
       "    </tr>\n",
       "    <tr>\n",
       "      <th>23</th>\n",
       "      <td>Giles Close</td>\n",
       "      <td>11</td>\n",
       "      <td>NaN</td>\n",
       "      <td>NaN</td>\n",
       "    </tr>\n",
       "    <tr>\n",
       "      <th>24</th>\n",
       "      <td>Giles Road</td>\n",
       "      <td>63</td>\n",
       "      <td>NaN</td>\n",
       "      <td>NaN</td>\n",
       "    </tr>\n",
       "    <tr>\n",
       "      <th>25</th>\n",
       "      <td>Goodey Close</td>\n",
       "      <td>16</td>\n",
       "      <td>NaN</td>\n",
       "      <td>NaN</td>\n",
       "    </tr>\n",
       "    <tr>\n",
       "      <th>27</th>\n",
       "      <td>Gwyneth Road</td>\n",
       "      <td>35</td>\n",
       "      <td>NaN</td>\n",
       "      <td>NaN</td>\n",
       "    </tr>\n",
       "    <tr>\n",
       "      <th>28</th>\n",
       "      <td>Hardings Close</td>\n",
       "      <td>16</td>\n",
       "      <td>NaN</td>\n",
       "      <td>NaN</td>\n",
       "    </tr>\n",
       "    <tr>\n",
       "      <th>29</th>\n",
       "      <td>Herschel Cresent</td>\n",
       "      <td>225</td>\n",
       "      <td>NaN</td>\n",
       "      <td>NaN</td>\n",
       "    </tr>\n",
       "    <tr>\n",
       "      <th>32</th>\n",
       "      <td>Kempson Crescent</td>\n",
       "      <td>27</td>\n",
       "      <td>NaN</td>\n",
       "      <td>NaN</td>\n",
       "    </tr>\n",
       "    <tr>\n",
       "      <th>43</th>\n",
       "      <td>Milvery Way</td>\n",
       "      <td>2</td>\n",
       "      <td>NaN</td>\n",
       "      <td>NaN</td>\n",
       "    </tr>\n",
       "    <tr>\n",
       "      <th>44</th>\n",
       "      <td>Minchery Cottages</td>\n",
       "      <td>6</td>\n",
       "      <td>NaN</td>\n",
       "      <td>NaN</td>\n",
       "    </tr>\n",
       "    <tr>\n",
       "      <th>47</th>\n",
       "      <td>Northfield Close</td>\n",
       "      <td>34</td>\n",
       "      <td>NaN</td>\n",
       "      <td>NaN</td>\n",
       "    </tr>\n",
       "    <tr>\n",
       "      <th>48</th>\n",
       "      <td>Orchard Way</td>\n",
       "      <td>7</td>\n",
       "      <td>NaN</td>\n",
       "      <td>NaN</td>\n",
       "    </tr>\n",
       "    <tr>\n",
       "      <th>51</th>\n",
       "      <td>Priory Road</td>\n",
       "      <td>87</td>\n",
       "      <td>NaN</td>\n",
       "      <td>NaN</td>\n",
       "    </tr>\n",
       "    <tr>\n",
       "      <th>53</th>\n",
       "      <td>Rahere Road</td>\n",
       "      <td>11</td>\n",
       "      <td>NaN</td>\n",
       "      <td>NaN</td>\n",
       "    </tr>\n",
       "    <tr>\n",
       "      <th>57</th>\n",
       "      <td>Sandy Lane West</td>\n",
       "      <td>7</td>\n",
       "      <td>NaN</td>\n",
       "      <td>NaN</td>\n",
       "    </tr>\n",
       "    <tr>\n",
       "      <th>58</th>\n",
       "      <td>Sheldon Way</td>\n",
       "      <td>13</td>\n",
       "      <td>NaN</td>\n",
       "      <td>NaN</td>\n",
       "    </tr>\n",
       "    <tr>\n",
       "      <th>60</th>\n",
       "      <td>St Mary's Close</td>\n",
       "      <td>6</td>\n",
       "      <td>NaN</td>\n",
       "      <td>NaN</td>\n",
       "    </tr>\n",
       "    <tr>\n",
       "      <th>62</th>\n",
       "      <td>Swinbourne Road</td>\n",
       "      <td>27</td>\n",
       "      <td>NaN</td>\n",
       "      <td>NaN</td>\n",
       "    </tr>\n",
       "    <tr>\n",
       "      <th>63</th>\n",
       "      <td>Thompson Terrace</td>\n",
       "      <td>47</td>\n",
       "      <td>NaN</td>\n",
       "      <td>NaN</td>\n",
       "    </tr>\n",
       "    <tr>\n",
       "      <th>64</th>\n",
       "      <td>Upton Close</td>\n",
       "      <td>11</td>\n",
       "      <td>NaN</td>\n",
       "      <td>NaN</td>\n",
       "    </tr>\n",
       "    <tr>\n",
       "      <th>65</th>\n",
       "      <td>Van Diemans Lane</td>\n",
       "      <td>80</td>\n",
       "      <td>NaN</td>\n",
       "      <td>NaN</td>\n",
       "    </tr>\n",
       "    <tr>\n",
       "      <th>66</th>\n",
       "      <td>Vicarage Close</td>\n",
       "      <td>45</td>\n",
       "      <td>NaN</td>\n",
       "      <td>NaN</td>\n",
       "    </tr>\n",
       "  </tbody>\n",
       "</table>\n",
       "</div>"
      ],
      "text/plain": [
       "               street  total  num_responses  coverage\n",
       "0       Addison Drive     19            NaN       NaN\n",
       "7     Brocklesby Road     18            NaN       NaN\n",
       "17      Denny Gardens     48            NaN       NaN\n",
       "19     Eastern Avenue     64            NaN       NaN\n",
       "21        Faber Close      8            NaN       NaN\n",
       "23        Giles Close     11            NaN       NaN\n",
       "24         Giles Road     63            NaN       NaN\n",
       "25       Goodey Close     16            NaN       NaN\n",
       "27       Gwyneth Road     35            NaN       NaN\n",
       "28     Hardings Close     16            NaN       NaN\n",
       "29   Herschel Cresent    225            NaN       NaN\n",
       "32   Kempson Crescent     27            NaN       NaN\n",
       "43        Milvery Way      2            NaN       NaN\n",
       "44  Minchery Cottages      6            NaN       NaN\n",
       "47   Northfield Close     34            NaN       NaN\n",
       "48        Orchard Way      7            NaN       NaN\n",
       "51        Priory Road     87            NaN       NaN\n",
       "53        Rahere Road     11            NaN       NaN\n",
       "57    Sandy Lane West      7            NaN       NaN\n",
       "58        Sheldon Way     13            NaN       NaN\n",
       "60    St Mary's Close      6            NaN       NaN\n",
       "62    Swinbourne Road     27            NaN       NaN\n",
       "63   Thompson Terrace     47            NaN       NaN\n",
       "64        Upton Close     11            NaN       NaN\n",
       "65   Van Diemans Lane     80            NaN       NaN\n",
       "66     Vicarage Close     45            NaN       NaN"
      ]
     },
     "execution_count": 16,
     "metadata": {},
     "output_type": "execute_result"
    }
   ],
   "source": [
    "coverage[coverage[\"num_responses\"].isna()].sort_values(by=[\"coverage\"], ascending=False)[\n",
    "    [\"street\", \"total\", \"num_responses\", \"coverage\"]\n",
    "]"
   ]
  },
  {
   "cell_type": "code",
   "execution_count": 17,
   "id": "ce57b077-1c6f-4fba-8e13-4fe1a41750da",
   "metadata": {},
   "outputs": [
    {
     "data": {
      "text/plain": [
       "{'Herschel Crescent', 'Sandy Lane West '}"
      ]
     },
     "execution_count": 17,
     "metadata": {},
     "output_type": "execute_result"
    }
   ],
   "source": [
    "set(freq_count_by_street[\"street\"]).difference(\n",
    "    set(coverage[coverage[\"num_responses\"].notna()][\"street\"])\n",
    ")  # Street names we can't deal with"
   ]
  },
  {
   "cell_type": "markdown",
   "id": "ba5b469e-33de-457c-8c8b-a08a4d3c65e7",
   "metadata": {},
   "source": [
    "# Clean up data from question 2 🛠️\n",
    "\n",
    "- Where we have data like `1-2`, replace with average of two values\n",
    "- Other strings, replace with `1` to indicate non-negative usage"
   ]
  },
  {
   "cell_type": "code",
   "execution_count": 18,
   "id": "aa7c9efc-f1b9-4591-bac5-8ad08033913f",
   "metadata": {},
   "outputs": [
    {
     "data": {
      "text/plain": [
       "[7.5, 'NaN', '5', 'Yes']"
      ]
     },
     "execution_count": 18,
     "metadata": {},
     "output_type": "execute_result"
    }
   ],
   "source": [
    "def average_usage_range(input_: str) -> float:\n",
    "    if isinstance(input_, str) and \"-\" in input_:\n",
    "        bottom, top = input_.split(\"-\")\n",
    "        return (int(bottom) + int(top)) / 2\n",
    "    return input_\n",
    "\n",
    "\n",
    "list(map(average_usage_range, [\"5-10\", \"NaN\", \"5\", \"Yes\"]))"
   ]
  },
  {
   "cell_type": "code",
   "execution_count": 19,
   "id": "2761cf14-ce31-4a10-96f6-4a6c8f42da16",
   "metadata": {},
   "outputs": [
    {
     "data": {
      "text/plain": [
       "[0, 0, '5', 'Yes']"
      ]
     },
     "execution_count": 19,
     "metadata": {},
     "output_type": "execute_result"
    }
   ],
   "source": [
    "def get_zeros(input_: str) -> float:\n",
    "    if isinstance(input_, str) and \"0\" in input_:\n",
    "        return 0\n",
    "    return input_\n",
    "\n",
    "\n",
    "list(\n",
    "    map(\n",
    "        get_zeros,\n",
    "        [\n",
    "            \"0 (moved in before LTN)\",\n",
    "            \"(0 because moved in after installation)\",\n",
    "            \"5\",\n",
    "            \"Yes\",\n",
    "        ],\n",
    "    )\n",
    ")"
   ]
  },
  {
   "cell_type": "code",
   "execution_count": 20,
   "id": "49be2f42-5a31-4de4-aedd-12c5aaab57c3",
   "metadata": {},
   "outputs": [
    {
     "data": {
      "text/plain": [
       "[0.0, 5.0, 2.0, 'Yes', '5']"
      ]
     },
     "execution_count": 20,
     "metadata": {},
     "output_type": "execute_result"
    }
   ],
   "source": [
    "def drop_reason(input_: str) -> float:\n",
    "    if isinstance(input_, str) and \" (\" in input_:\n",
    "        try:\n",
    "            return float(input_.split(\" (\")[0])\n",
    "        except ValueError:\n",
    "            pass\n",
    "\n",
    "    return input_\n",
    "\n",
    "\n",
    "list(map(drop_reason, [\"0 (moved in before LTN)\", \"5 (taxi)\", \"2.0 (COVID)\", \"Yes\", \"5\"]))"
   ]
  },
  {
   "cell_type": "code",
   "execution_count": 21,
   "id": "0015443c-bbe0-400c-b646-c2e62057ce33",
   "metadata": {},
   "outputs": [
    {
     "data": {
      "text/plain": [
       "[10.0, 10.0, 10.0, '5 (taxi)', '2.0 (COVID)', 'Yes', '5']"
      ]
     },
     "execution_count": 21,
     "metadata": {},
     "output_type": "execute_result"
    }
   ],
   "source": [
    "def drop_modifiers(input_: str):\n",
    "    \"\"\"i.e. <, > and + signs\"\"\"\n",
    "    if isinstance(input_, str):\n",
    "        for modifier in [\"<\", \">\", \"+\"]:\n",
    "            if modifier in input_:\n",
    "                try:\n",
    "                    return float(input_.replace(modifier, \"\"))  # assuming only one modifier exists\n",
    "                except ValueError:\n",
    "                    input_.replace(modifier, \"\")\n",
    "    return input_\n",
    "\n",
    "\n",
    "list(map(drop_modifiers, [\"<10\", \"10+\", \">10\", \"5 (taxi)\", \"2.0 (COVID)\", \"Yes\", \"5\"]))"
   ]
  },
  {
   "cell_type": "code",
   "execution_count": 22,
   "id": "fc9442b6-8241-40f8-a1f1-2b35f1ad7aa3",
   "metadata": {
    "tags": []
   },
   "outputs": [
    {
     "data": {
      "text/html": [
       "<div>\n",
       "<style scoped>\n",
       "    .dataframe tbody tr th:only-of-type {\n",
       "        vertical-align: middle;\n",
       "    }\n",
       "\n",
       "    .dataframe tbody tr th {\n",
       "        vertical-align: top;\n",
       "    }\n",
       "\n",
       "    .dataframe thead th {\n",
       "        text-align: right;\n",
       "    }\n",
       "</style>\n",
       "<table border=\"1\" class=\"dataframe\">\n",
       "  <thead>\n",
       "    <tr style=\"text-align: right;\">\n",
       "      <th></th>\n",
       "      <th>2_car_before</th>\n",
       "      <th>2_car_after</th>\n",
       "    </tr>\n",
       "  </thead>\n",
       "  <tbody>\n",
       "    <tr>\n",
       "      <th>0</th>\n",
       "      <td>0</td>\n",
       "      <td>0</td>\n",
       "    </tr>\n",
       "    <tr>\n",
       "      <th>1</th>\n",
       "      <td>5</td>\n",
       "      <td>5</td>\n",
       "    </tr>\n",
       "    <tr>\n",
       "      <th>2</th>\n",
       "      <td>5</td>\n",
       "      <td>5</td>\n",
       "    </tr>\n",
       "    <tr>\n",
       "      <th>3</th>\n",
       "      <td>5</td>\n",
       "      <td>5</td>\n",
       "    </tr>\n",
       "    <tr>\n",
       "      <th>4</th>\n",
       "      <td>0</td>\n",
       "      <td>0</td>\n",
       "    </tr>\n",
       "    <tr>\n",
       "      <th>...</th>\n",
       "      <td>...</td>\n",
       "      <td>...</td>\n",
       "    </tr>\n",
       "    <tr>\n",
       "      <th>520</th>\n",
       "      <td>multiple</td>\n",
       "      <td>multiple with more miles and time</td>\n",
       "    </tr>\n",
       "    <tr>\n",
       "      <th>521</th>\n",
       "      <td>9</td>\n",
       "      <td>9</td>\n",
       "    </tr>\n",
       "    <tr>\n",
       "      <th>522</th>\n",
       "      <td>14</td>\n",
       "      <td>14</td>\n",
       "    </tr>\n",
       "    <tr>\n",
       "      <th>523</th>\n",
       "      <td>14</td>\n",
       "      <td>14</td>\n",
       "    </tr>\n",
       "    <tr>\n",
       "      <th>524</th>\n",
       "      <td>42</td>\n",
       "      <td>42</td>\n",
       "    </tr>\n",
       "  </tbody>\n",
       "</table>\n",
       "<p>525 rows × 2 columns</p>\n",
       "</div>"
      ],
      "text/plain": [
       "    2_car_before                        2_car_after\n",
       "0              0                                  0\n",
       "1              5                                  5\n",
       "2              5                                  5\n",
       "3              5                                  5\n",
       "4              0                                  0\n",
       "..           ...                                ...\n",
       "520     multiple  multiple with more miles and time\n",
       "521            9                                  9\n",
       "522           14                                 14\n",
       "523           14                                 14\n",
       "524           42                                 42\n",
       "\n",
       "[525 rows x 2 columns]"
      ]
     },
     "execution_count": 22,
     "metadata": {},
     "output_type": "execute_result"
    }
   ],
   "source": [
    "list_of_columns_to_clean = [\n",
    "    \"2_car_before\",\n",
    "    \"2_car_after\",\n",
    "    \"2_motorbike_before\",\n",
    "    \"2_motorbike_after\",\n",
    "    \"2_van_before\",\n",
    "    \"2_van_after\",\n",
    "    \"2_bus_before\",\n",
    "    \"2_bus_after\",\n",
    "    \"2_foot_before\",\n",
    "    \"2_foot_after\",\n",
    "    \"2_wheelchair_before\",\n",
    "    \"2_wheelchair_before\",\n",
    "    \"2_bike_before\",\n",
    "    \"2_bike_after\",\n",
    "    \"2_scooter_before\",\n",
    "    \"2_scooter_after\",\n",
    "]\n",
    "\n",
    "for col_name in list_of_columns_to_clean:\n",
    "    df[col_name] = (\n",
    "        df[col_name]\n",
    "        .apply(average_usage_range)\n",
    "        .apply(get_zeros)\n",
    "        .apply(drop_reason)\n",
    "        .apply(drop_modifiers)\n",
    "    )\n",
    "\n",
    "df[[\"2_car_before\", \"2_car_after\"]]"
   ]
  },
  {
   "cell_type": "markdown",
   "id": "b0cabee6-6a3f-4e92-a1ff-9aa27ba4a0df",
   "metadata": {
    "tags": []
   },
   "source": [
    "## Create some extra travel mode columns\n",
    "\n",
    "- `active_travel_before` and `active_travel_after` (float): sum of any active travel indicated, where active travel = [walk, bike, wheelchair, scooter]\n",
    "- `car_change` (float): different in car use before -> after LTN installation\n",
    "- `active_travel_change` (float): different in active travel use before/after LTN installation"
   ]
  },
  {
   "cell_type": "code",
   "execution_count": 23,
   "id": "b5c05005-5123-4c94-9ec5-15396e00c2eb",
   "metadata": {
    "tags": []
   },
   "outputs": [
    {
     "data": {
      "text/html": [
       "<div>\n",
       "<style scoped>\n",
       "    .dataframe tbody tr th:only-of-type {\n",
       "        vertical-align: middle;\n",
       "    }\n",
       "\n",
       "    .dataframe tbody tr th {\n",
       "        vertical-align: top;\n",
       "    }\n",
       "\n",
       "    .dataframe thead th {\n",
       "        text-align: right;\n",
       "    }\n",
       "</style>\n",
       "<table border=\"1\" class=\"dataframe\">\n",
       "  <thead>\n",
       "    <tr style=\"text-align: right;\">\n",
       "      <th></th>\n",
       "      <th>2_car_before</th>\n",
       "      <th>2_car_after</th>\n",
       "      <th>car_change</th>\n",
       "    </tr>\n",
       "  </thead>\n",
       "  <tbody>\n",
       "    <tr>\n",
       "      <th>0</th>\n",
       "      <td>0</td>\n",
       "      <td>0</td>\n",
       "      <td>0.0</td>\n",
       "    </tr>\n",
       "    <tr>\n",
       "      <th>1</th>\n",
       "      <td>5</td>\n",
       "      <td>5</td>\n",
       "      <td>0.0</td>\n",
       "    </tr>\n",
       "    <tr>\n",
       "      <th>2</th>\n",
       "      <td>5</td>\n",
       "      <td>5</td>\n",
       "      <td>0.0</td>\n",
       "    </tr>\n",
       "    <tr>\n",
       "      <th>3</th>\n",
       "      <td>5</td>\n",
       "      <td>5</td>\n",
       "      <td>0.0</td>\n",
       "    </tr>\n",
       "    <tr>\n",
       "      <th>4</th>\n",
       "      <td>0</td>\n",
       "      <td>0</td>\n",
       "      <td>0.0</td>\n",
       "    </tr>\n",
       "    <tr>\n",
       "      <th>...</th>\n",
       "      <td>...</td>\n",
       "      <td>...</td>\n",
       "      <td>...</td>\n",
       "    </tr>\n",
       "    <tr>\n",
       "      <th>520</th>\n",
       "      <td>multiple</td>\n",
       "      <td>multiple with more miles and time</td>\n",
       "      <td>NaN</td>\n",
       "    </tr>\n",
       "    <tr>\n",
       "      <th>521</th>\n",
       "      <td>9</td>\n",
       "      <td>9</td>\n",
       "      <td>0.0</td>\n",
       "    </tr>\n",
       "    <tr>\n",
       "      <th>522</th>\n",
       "      <td>14</td>\n",
       "      <td>14</td>\n",
       "      <td>0.0</td>\n",
       "    </tr>\n",
       "    <tr>\n",
       "      <th>523</th>\n",
       "      <td>14</td>\n",
       "      <td>14</td>\n",
       "      <td>0.0</td>\n",
       "    </tr>\n",
       "    <tr>\n",
       "      <th>524</th>\n",
       "      <td>42</td>\n",
       "      <td>42</td>\n",
       "      <td>0.0</td>\n",
       "    </tr>\n",
       "  </tbody>\n",
       "</table>\n",
       "<p>525 rows × 3 columns</p>\n",
       "</div>"
      ],
      "text/plain": [
       "    2_car_before                        2_car_after  car_change\n",
       "0              0                                  0         0.0\n",
       "1              5                                  5         0.0\n",
       "2              5                                  5         0.0\n",
       "3              5                                  5         0.0\n",
       "4              0                                  0         0.0\n",
       "..           ...                                ...         ...\n",
       "520     multiple  multiple with more miles and time         NaN\n",
       "521            9                                  9         0.0\n",
       "522           14                                 14         0.0\n",
       "523           14                                 14         0.0\n",
       "524           42                                 42         0.0\n",
       "\n",
       "[525 rows x 3 columns]"
      ]
     },
     "execution_count": 23,
     "metadata": {},
     "output_type": "execute_result"
    }
   ],
   "source": [
    "df[\"car_change\"] = df[\"2_car_after\"].apply(pd.to_numeric, errors=\"coerce\") - df[\n",
    "    \"2_car_before\"\n",
    "].apply(pd.to_numeric, errors=\"coerce\")\n",
    "df[[\"2_car_before\", \"2_car_after\", \"car_change\"]]"
   ]
  },
  {
   "cell_type": "code",
   "execution_count": 24,
   "id": "4838a3d2-4785-4dfa-b63f-171b1d2a4723",
   "metadata": {},
   "outputs": [
    {
     "data": {
      "text/html": [
       "<div>\n",
       "<style scoped>\n",
       "    .dataframe tbody tr th:only-of-type {\n",
       "        vertical-align: middle;\n",
       "    }\n",
       "\n",
       "    .dataframe tbody tr th {\n",
       "        vertical-align: top;\n",
       "    }\n",
       "\n",
       "    .dataframe thead th {\n",
       "        text-align: right;\n",
       "    }\n",
       "</style>\n",
       "<table border=\"1\" class=\"dataframe\">\n",
       "  <thead>\n",
       "    <tr style=\"text-align: right;\">\n",
       "      <th></th>\n",
       "      <th>active_travel_before</th>\n",
       "      <th>active_travel_after</th>\n",
       "      <th>active_travel_change</th>\n",
       "    </tr>\n",
       "  </thead>\n",
       "  <tbody>\n",
       "    <tr>\n",
       "      <th>0</th>\n",
       "      <td>2.0</td>\n",
       "      <td>16.0</td>\n",
       "      <td>14.0</td>\n",
       "    </tr>\n",
       "    <tr>\n",
       "      <th>1</th>\n",
       "      <td>0.0</td>\n",
       "      <td>0.0</td>\n",
       "      <td>0.0</td>\n",
       "    </tr>\n",
       "    <tr>\n",
       "      <th>2</th>\n",
       "      <td>0.0</td>\n",
       "      <td>0.0</td>\n",
       "      <td>0.0</td>\n",
       "    </tr>\n",
       "    <tr>\n",
       "      <th>3</th>\n",
       "      <td>0.0</td>\n",
       "      <td>2.0</td>\n",
       "      <td>2.0</td>\n",
       "    </tr>\n",
       "    <tr>\n",
       "      <th>4</th>\n",
       "      <td>1.0</td>\n",
       "      <td>3.0</td>\n",
       "      <td>2.0</td>\n",
       "    </tr>\n",
       "    <tr>\n",
       "      <th>...</th>\n",
       "      <td>...</td>\n",
       "      <td>...</td>\n",
       "      <td>...</td>\n",
       "    </tr>\n",
       "    <tr>\n",
       "      <th>520</th>\n",
       "      <td>0.0</td>\n",
       "      <td>0.0</td>\n",
       "      <td>0.0</td>\n",
       "    </tr>\n",
       "    <tr>\n",
       "      <th>521</th>\n",
       "      <td>3.0</td>\n",
       "      <td>3.0</td>\n",
       "      <td>0.0</td>\n",
       "    </tr>\n",
       "    <tr>\n",
       "      <th>522</th>\n",
       "      <td>0.0</td>\n",
       "      <td>0.0</td>\n",
       "      <td>0.0</td>\n",
       "    </tr>\n",
       "    <tr>\n",
       "      <th>523</th>\n",
       "      <td>0.0</td>\n",
       "      <td>0.0</td>\n",
       "      <td>0.0</td>\n",
       "    </tr>\n",
       "    <tr>\n",
       "      <th>524</th>\n",
       "      <td>8.0</td>\n",
       "      <td>8.0</td>\n",
       "      <td>0.0</td>\n",
       "    </tr>\n",
       "  </tbody>\n",
       "</table>\n",
       "<p>525 rows × 3 columns</p>\n",
       "</div>"
      ],
      "text/plain": [
       "     active_travel_before  active_travel_after  active_travel_change\n",
       "0                     2.0                 16.0                  14.0\n",
       "1                     0.0                  0.0                   0.0\n",
       "2                     0.0                  0.0                   0.0\n",
       "3                     0.0                  2.0                   2.0\n",
       "4                     1.0                  3.0                   2.0\n",
       "..                    ...                  ...                   ...\n",
       "520                   0.0                  0.0                   0.0\n",
       "521                   3.0                  3.0                   0.0\n",
       "522                   0.0                  0.0                   0.0\n",
       "523                   0.0                  0.0                   0.0\n",
       "524                   8.0                  8.0                   0.0\n",
       "\n",
       "[525 rows x 3 columns]"
      ]
     },
     "execution_count": 24,
     "metadata": {},
     "output_type": "execute_result"
    }
   ],
   "source": [
    "df[\"active_travel_before\"] = (\n",
    "    df[\"2_foot_before\"].apply(pd.to_numeric, errors=\"coerce\").fillna(0)\n",
    "    + df[\"2_wheelchair_before\"].apply(pd.to_numeric, errors=\"coerce\").fillna(0)\n",
    "    + df[\"2_bike_before\"].apply(pd.to_numeric, errors=\"coerce\").fillna(0)\n",
    "    + df[\"2_scooter_before\"].apply(pd.to_numeric, errors=\"coerce\").fillna(0)\n",
    ")\n",
    "df[\"active_travel_after\"] = (\n",
    "    df[\"2_foot_after\"].apply(pd.to_numeric, errors=\"coerce\").fillna(0)\n",
    "    + df[\"2_wheelchair_after\"].apply(pd.to_numeric, errors=\"coerce\").fillna(0)\n",
    "    + df[\"2_bike_after\"].apply(pd.to_numeric, errors=\"coerce\").fillna(0)\n",
    "    + df[\"2_scooter_after\"].apply(pd.to_numeric, errors=\"coerce\").fillna(0)\n",
    ")\n",
    "df[\"active_travel_change\"] = df[\"active_travel_after\"] - df[\"active_travel_before\"]\n",
    "df[[\"active_travel_before\", \"active_travel_after\", \"active_travel_change\"]]"
   ]
  },
  {
   "cell_type": "markdown",
   "id": "dbfb182a-b1a5-4ab7-9331-ded7dfc0830b",
   "metadata": {},
   "source": [
    "## Calculate active travel proportion"
   ]
  },
  {
   "cell_type": "code",
   "execution_count": 102,
   "id": "d5810013-6a3f-4e28-8733-cc16a6fd17a1",
   "metadata": {},
   "outputs": [
    {
     "data": {
      "text/plain": [
       "Index(['timestamp', 'email', 'street', '1_reduce_traffic', '2_car_before',\n",
       "       '2_car_after', '2_motorbike_before', '2_motorbike_after',\n",
       "       '2_van_before', '2_van_after', '2_bus_before', '2_bus_after',\n",
       "       '2_foot_before', '2_foot_after', '2_wheelchair_before',\n",
       "       '2_wheelchair_after', '2_bike_before', '2_bike_after',\n",
       "       '2_scooter_before', '2_scooter_after', '3_drive_reasons',\n",
       "       '4_ltn_impact', '5_church_hill_road', '5_beauchamp_lane',\n",
       "       '5_littlemore_road', '5_mayfair_road', '5_liddell_road',\n",
       "       '5_bartholomew_road', '6_ltn_future', '7_ltn_benefit', '8_ltn_problem',\n",
       "       '9_consultation', '10_traffic_ideas', 'Unnamed: 33', 'count',\n",
       "       'inside_ltn', 'borders_ltn', 'outside_ltn', 'in_littlemore_parish',\n",
       "       'cul_de_sac', 'postcode', 'latitude', 'longitude',\n",
       "       'driving_distance_to_ltn_meters', 'car_change', 'active_travel_before',\n",
       "       'active_travel_after', 'active_travel_change', 'bus_change',\n",
       "       '6_ltn_future_simple', 'active_travel_after_bool', 'school_run_drive',\n",
       "       '4_ltn_impact_category'],\n",
       "      dtype='object')"
      ]
     },
     "execution_count": 102,
     "metadata": {},
     "output_type": "execute_result"
    }
   ],
   "source": [
    "df.columns"
   ]
  },
  {
   "cell_type": "code",
   "execution_count": 109,
   "id": "5017dd2b-978d-4e7d-bfff-be41e91dbb01",
   "metadata": {},
   "outputs": [
    {
     "data": {
      "text/html": [
       "<div>\n",
       "<style scoped>\n",
       "    .dataframe tbody tr th:only-of-type {\n",
       "        vertical-align: middle;\n",
       "    }\n",
       "\n",
       "    .dataframe tbody tr th {\n",
       "        vertical-align: top;\n",
       "    }\n",
       "\n",
       "    .dataframe thead th {\n",
       "        text-align: right;\n",
       "    }\n",
       "</style>\n",
       "<table border=\"1\" class=\"dataframe\">\n",
       "  <thead>\n",
       "    <tr style=\"text-align: right;\">\n",
       "      <th></th>\n",
       "      <th>active_travel_prop_before</th>\n",
       "      <th>active_travel_prop_after</th>\n",
       "      <th>active_travel_prop_mean</th>\n",
       "    </tr>\n",
       "  </thead>\n",
       "  <tbody>\n",
       "    <tr>\n",
       "      <th>0</th>\n",
       "      <td>1.000000</td>\n",
       "      <td>1.000000</td>\n",
       "      <td>1.000000</td>\n",
       "    </tr>\n",
       "    <tr>\n",
       "      <th>1</th>\n",
       "      <td>0.000000</td>\n",
       "      <td>0.000000</td>\n",
       "      <td>0.000000</td>\n",
       "    </tr>\n",
       "    <tr>\n",
       "      <th>2</th>\n",
       "      <td>0.000000</td>\n",
       "      <td>0.000000</td>\n",
       "      <td>0.000000</td>\n",
       "    </tr>\n",
       "    <tr>\n",
       "      <th>3</th>\n",
       "      <td>0.000000</td>\n",
       "      <td>0.285714</td>\n",
       "      <td>0.142857</td>\n",
       "    </tr>\n",
       "    <tr>\n",
       "      <th>4</th>\n",
       "      <td>1.000000</td>\n",
       "      <td>1.000000</td>\n",
       "      <td>1.000000</td>\n",
       "    </tr>\n",
       "    <tr>\n",
       "      <th>5</th>\n",
       "      <td>NaN</td>\n",
       "      <td>NaN</td>\n",
       "      <td>NaN</td>\n",
       "    </tr>\n",
       "    <tr>\n",
       "      <th>6</th>\n",
       "      <td>0.777778</td>\n",
       "      <td>0.818182</td>\n",
       "      <td>0.797980</td>\n",
       "    </tr>\n",
       "    <tr>\n",
       "      <th>7</th>\n",
       "      <td>0.500000</td>\n",
       "      <td>1.000000</td>\n",
       "      <td>0.750000</td>\n",
       "    </tr>\n",
       "    <tr>\n",
       "      <th>8</th>\n",
       "      <td>0.000000</td>\n",
       "      <td>0.000000</td>\n",
       "      <td>0.000000</td>\n",
       "    </tr>\n",
       "    <tr>\n",
       "      <th>9</th>\n",
       "      <td>NaN</td>\n",
       "      <td>NaN</td>\n",
       "      <td>NaN</td>\n",
       "    </tr>\n",
       "  </tbody>\n",
       "</table>\n",
       "</div>"
      ],
      "text/plain": [
       "   active_travel_prop_before  active_travel_prop_after  \\\n",
       "0                   1.000000                  1.000000   \n",
       "1                   0.000000                  0.000000   \n",
       "2                   0.000000                  0.000000   \n",
       "3                   0.000000                  0.285714   \n",
       "4                   1.000000                  1.000000   \n",
       "5                        NaN                       NaN   \n",
       "6                   0.777778                  0.818182   \n",
       "7                   0.500000                  1.000000   \n",
       "8                   0.000000                  0.000000   \n",
       "9                        NaN                       NaN   \n",
       "\n",
       "   active_travel_prop_mean  \n",
       "0                 1.000000  \n",
       "1                 0.000000  \n",
       "2                 0.000000  \n",
       "3                 0.142857  \n",
       "4                 1.000000  \n",
       "5                      NaN  \n",
       "6                 0.797980  \n",
       "7                 0.750000  \n",
       "8                 0.000000  \n",
       "9                      NaN  "
      ]
     },
     "execution_count": 109,
     "metadata": {},
     "output_type": "execute_result"
    }
   ],
   "source": [
    "df[\"total_trips_per_week_before\"] = (\n",
    "    df[\"2_car_before\"].apply(pd.to_numeric, errors=\"coerce\").fillna(0)\n",
    "    + df[\"2_motorbike_before\"].apply(pd.to_numeric, errors=\"coerce\").fillna(0)\n",
    "    + df[\"2_van_before\"].apply(pd.to_numeric, errors=\"coerce\").fillna(0)\n",
    "    + df[\"2_bus_before\"].apply(pd.to_numeric, errors=\"coerce\").fillna(0)\n",
    "    + df[\"active_travel_before\"]\n",
    ")\n",
    "df[\"total_trips_per_week_after\"] = (\n",
    "    df[\"2_car_after\"].apply(pd.to_numeric, errors=\"coerce\").fillna(0)\n",
    "    + df[\"2_motorbike_after\"].apply(pd.to_numeric, errors=\"coerce\").fillna(0)\n",
    "    + df[\"2_van_after\"].apply(pd.to_numeric, errors=\"coerce\").fillna(0)\n",
    "    + df[\"2_bus_after\"].apply(pd.to_numeric, errors=\"coerce\").fillna(0)\n",
    "    + df[\"active_travel_after\"]\n",
    ")\n",
    "df[\"active_travel_prop_before\"] = df[\"active_travel_before\"] / df[\"total_trips_per_week_before\"]\n",
    "df[\"active_travel_prop_after\"] = df[\"active_travel_after\"] / df[\"total_trips_per_week_after\"]\n",
    "df[\"active_travel_prop_mean\"] = df[[\"active_travel_prop_before\", \"active_travel_prop_after\"]].mean(\n",
    "    axis=1\n",
    ")\n",
    "df[[\"active_travel_prop_before\", \"active_travel_prop_after\", \"active_travel_prop_mean\"]].head(10)"
   ]
  },
  {
   "cell_type": "markdown",
   "id": "4e6705e7-90b1-4547-a282-2a4fd8dbb80b",
   "metadata": {},
   "source": [
    "# Question 2 - Let's look at some active travel 🚴 🛴 🚶 👩‍🦽"
   ]
  },
  {
   "cell_type": "code",
   "execution_count": 25,
   "id": "53beb0df-060c-4470-9392-4d41c1b8b09a",
   "metadata": {},
   "outputs": [
    {
     "data": {
      "text/plain": [
       "288"
      ]
     },
     "execution_count": 25,
     "metadata": {},
     "output_type": "execute_result"
    }
   ],
   "source": [
    "# Households with zero active travel journeys before LTN installation\n",
    "sum(df[\"active_travel_before\"] == 0.0)"
   ]
  },
  {
   "cell_type": "code",
   "execution_count": 26,
   "id": "3554b63f-472d-4967-a7c7-22e6f89cc132",
   "metadata": {},
   "outputs": [
    {
     "data": {
      "text/plain": [
       "237"
      ]
     },
     "execution_count": 26,
     "metadata": {},
     "output_type": "execute_result"
    }
   ],
   "source": [
    "# Households with postive active travel journeys before LTN\n",
    "sum(df[\"active_travel_before\"] > 0.0)"
   ]
  },
  {
   "cell_type": "code",
   "execution_count": 27,
   "id": "ccb4b0d6-834e-4b22-8794-e72e4ca3bb58",
   "metadata": {},
   "outputs": [
    {
     "data": {
      "text/plain": [
       "283"
      ]
     },
     "execution_count": 27,
     "metadata": {},
     "output_type": "execute_result"
    }
   ],
   "source": [
    "# Households with zero active travel journeys after LTN installation\n",
    "sum(df[\"active_travel_after\"] == 0.0)"
   ]
  },
  {
   "cell_type": "code",
   "execution_count": 28,
   "id": "ab4fa199-446a-4a86-b68b-a84af9088165",
   "metadata": {},
   "outputs": [
    {
     "data": {
      "text/plain": [
       "242"
      ]
     },
     "execution_count": 28,
     "metadata": {},
     "output_type": "execute_result"
    }
   ],
   "source": [
    "# Households with positive active travel journeys after LTN installation\n",
    "sum(df[\"active_travel_after\"] > 0.0)"
   ]
  },
  {
   "cell_type": "code",
   "execution_count": 29,
   "id": "93a6ac1d-5222-42e4-922e-86e7e6761232",
   "metadata": {},
   "outputs": [
    {
     "data": {
      "text/plain": [
       "47"
      ]
     },
     "execution_count": 29,
     "metadata": {},
     "output_type": "execute_result"
    }
   ],
   "source": [
    "# Number of households with a positive active travel change\n",
    "sum(df[\"active_travel_change\"] > 0)"
   ]
  },
  {
   "cell_type": "code",
   "execution_count": 30,
   "id": "c2380094-cb7d-43f6-b398-4882995b762c",
   "metadata": {},
   "outputs": [
    {
     "data": {
      "text/plain": [
       "20"
      ]
     },
     "execution_count": 30,
     "metadata": {},
     "output_type": "execute_result"
    }
   ],
   "source": [
    "# Number of households with a negative active travel change\n",
    "sum(df[\"active_travel_change\"] < 0)"
   ]
  },
  {
   "cell_type": "code",
   "execution_count": 31,
   "id": "aa455481-cf0e-4611-9a63-030aeff88538",
   "metadata": {},
   "outputs": [
    {
     "data": {
      "text/plain": [
       "185"
      ]
     },
     "execution_count": 31,
     "metadata": {},
     "output_type": "execute_result"
    }
   ],
   "source": [
    "# Number of households nonzero active travel with no change\n",
    "sum((df[\"active_travel_change\"] == 0) & (df[\"active_travel_before\"] > 0))"
   ]
  },
  {
   "cell_type": "code",
   "execution_count": 32,
   "id": "73c9565a-9555-402c-b7b1-13b686c75a89",
   "metadata": {},
   "outputs": [
    {
     "data": {
      "text/plain": [
       "5.042553191489362"
      ]
     },
     "execution_count": 32,
     "metadata": {},
     "output_type": "execute_result"
    }
   ],
   "source": [
    "# Average size of active travel positive change\n",
    "df[\"active_travel_change\"][df[\"active_travel_change\"] > 0].mean()"
   ]
  },
  {
   "cell_type": "code",
   "execution_count": 33,
   "id": "1c81b069-2d16-4ff8-8281-c5ff429c59c2",
   "metadata": {},
   "outputs": [
    {
     "data": {
      "text/plain": [
       "22"
      ]
     },
     "execution_count": 33,
     "metadata": {},
     "output_type": "execute_result"
    }
   ],
   "source": [
    "# Households with modal shift form cars to active travel\n",
    "sum((df[\"active_travel_change\"] > 0) & (df[\"car_change\"] < 0))"
   ]
  },
  {
   "cell_type": "code",
   "execution_count": 34,
   "id": "85ddba94-38bf-4f3c-95af-10e6e68e57f2",
   "metadata": {},
   "outputs": [
    {
     "data": {
      "text/plain": [
       "63"
      ]
     },
     "execution_count": 34,
     "metadata": {},
     "output_type": "execute_result"
    }
   ],
   "source": [
    "sum(df[\"car_change\"] < 0)"
   ]
  },
  {
   "cell_type": "code",
   "execution_count": 35,
   "id": "2f7323f0-8292-4a35-b498-31fe65e93cd2",
   "metadata": {},
   "outputs": [
    {
     "data": {
      "text/plain": [
       "28"
      ]
     },
     "execution_count": 35,
     "metadata": {},
     "output_type": "execute_result"
    }
   ],
   "source": [
    "sum(df[\"car_change\"] > 0)"
   ]
  },
  {
   "cell_type": "markdown",
   "id": "b48ef757-7757-4572-95d0-1f05a4dc44b0",
   "metadata": {},
   "source": [
    "## Active travel proportion"
   ]
  },
  {
   "cell_type": "code",
   "execution_count": 115,
   "id": "ad246415-e072-454d-b9ca-72f0b8bd8da4",
   "metadata": {},
   "outputs": [
    {
     "data": {
      "text/plain": [
       "[(-0.1, 1.1)]"
      ]
     },
     "execution_count": 115,
     "metadata": {},
     "output_type": "execute_result"
    },
    {
     "data": {
      "image/png": "[encoded data removed]",
      "text/plain": [
       "<Figure size 720x576 with 1 Axes>"
      ]
     },
     "metadata": {
      "needs_background": "light"
     },
     "output_type": "display_data"
    }
   ],
   "source": [
    "fig, ax = plt.subplots(figsize=(10, 8))\n",
    "plt.hist(\n",
    "    [df[\"active_travel_prop_before\"], df[\"active_travel_prop_after\"]],\n",
    "    bins=10,\n",
    "    alpha=0.5,\n",
    "    label=[\"Before LTN\", \"After LTN\"],\n",
    ")\n",
    "plt.legend(loc=\"upper right\")\n",
    "ax.set(xlim=(-0.1, 1.1))"
   ]
  },
  {
   "cell_type": "markdown",
   "id": "4d53c253-db9f-4375-91e3-f0a4242aa0d5",
   "metadata": {},
   "source": [
    "## Should probably look at buses a bit 🚌"
   ]
  },
  {
   "cell_type": "code",
   "execution_count": 36,
   "id": "81776657-a78f-42b4-92c8-01dcd1177450",
   "metadata": {
    "tags": []
   },
   "outputs": [
    {
     "data": {
      "text/html": [
       "<div>\n",
       "<style scoped>\n",
       "    .dataframe tbody tr th:only-of-type {\n",
       "        vertical-align: middle;\n",
       "    }\n",
       "\n",
       "    .dataframe tbody tr th {\n",
       "        vertical-align: top;\n",
       "    }\n",
       "\n",
       "    .dataframe thead th {\n",
       "        text-align: right;\n",
       "    }\n",
       "</style>\n",
       "<table border=\"1\" class=\"dataframe\">\n",
       "  <thead>\n",
       "    <tr style=\"text-align: right;\">\n",
       "      <th></th>\n",
       "      <th>2_bus_before</th>\n",
       "      <th>2_bus_after</th>\n",
       "      <th>bus_change</th>\n",
       "    </tr>\n",
       "  </thead>\n",
       "  <tbody>\n",
       "    <tr>\n",
       "      <th>0</th>\n",
       "      <td>0</td>\n",
       "      <td>0</td>\n",
       "      <td>0.0</td>\n",
       "    </tr>\n",
       "    <tr>\n",
       "      <th>1</th>\n",
       "      <td>NaN</td>\n",
       "      <td>NaN</td>\n",
       "      <td>NaN</td>\n",
       "    </tr>\n",
       "    <tr>\n",
       "      <th>2</th>\n",
       "      <td>NaN</td>\n",
       "      <td>NaN</td>\n",
       "      <td>NaN</td>\n",
       "    </tr>\n",
       "    <tr>\n",
       "      <th>3</th>\n",
       "      <td>0</td>\n",
       "      <td>0</td>\n",
       "      <td>0.0</td>\n",
       "    </tr>\n",
       "    <tr>\n",
       "      <th>4</th>\n",
       "      <td>0</td>\n",
       "      <td>0</td>\n",
       "      <td>0.0</td>\n",
       "    </tr>\n",
       "    <tr>\n",
       "      <th>...</th>\n",
       "      <td>...</td>\n",
       "      <td>...</td>\n",
       "      <td>...</td>\n",
       "    </tr>\n",
       "    <tr>\n",
       "      <th>520</th>\n",
       "      <td>multiple</td>\n",
       "      <td>multiple</td>\n",
       "      <td>NaN</td>\n",
       "    </tr>\n",
       "    <tr>\n",
       "      <th>521</th>\n",
       "      <td>NaN</td>\n",
       "      <td>NaN</td>\n",
       "      <td>NaN</td>\n",
       "    </tr>\n",
       "    <tr>\n",
       "      <th>522</th>\n",
       "      <td>NaN</td>\n",
       "      <td>NaN</td>\n",
       "      <td>NaN</td>\n",
       "    </tr>\n",
       "    <tr>\n",
       "      <th>523</th>\n",
       "      <td>NaN</td>\n",
       "      <td>NaN</td>\n",
       "      <td>NaN</td>\n",
       "    </tr>\n",
       "    <tr>\n",
       "      <th>524</th>\n",
       "      <td>5</td>\n",
       "      <td>5</td>\n",
       "      <td>0.0</td>\n",
       "    </tr>\n",
       "  </tbody>\n",
       "</table>\n",
       "<p>525 rows × 3 columns</p>\n",
       "</div>"
      ],
      "text/plain": [
       "    2_bus_before 2_bus_after  bus_change\n",
       "0              0           0         0.0\n",
       "1            NaN         NaN         NaN\n",
       "2            NaN         NaN         NaN\n",
       "3              0           0         0.0\n",
       "4              0           0         0.0\n",
       "..           ...         ...         ...\n",
       "520     multiple    multiple         NaN\n",
       "521          NaN         NaN         NaN\n",
       "522          NaN         NaN         NaN\n",
       "523          NaN         NaN         NaN\n",
       "524            5           5         0.0\n",
       "\n",
       "[525 rows x 3 columns]"
      ]
     },
     "execution_count": 36,
     "metadata": {},
     "output_type": "execute_result"
    }
   ],
   "source": [
    "df[\"bus_change\"] = df[\"2_bus_after\"].apply(pd.to_numeric, errors=\"coerce\") - df[\n",
    "    \"2_bus_before\"\n",
    "].apply(pd.to_numeric, errors=\"coerce\")\n",
    "df[[\"2_bus_before\", \"2_bus_after\", \"bus_change\"]]"
   ]
  },
  {
   "cell_type": "code",
   "execution_count": 37,
   "id": "d4cbdfe9-77ab-41f3-9c7f-3010e52be5b1",
   "metadata": {},
   "outputs": [
    {
     "data": {
      "text/plain": [
       "122"
      ]
     },
     "execution_count": 37,
     "metadata": {},
     "output_type": "execute_result"
    }
   ],
   "source": [
    "sum(df[\"2_bus_before\"].notna())"
   ]
  },
  {
   "cell_type": "code",
   "execution_count": 38,
   "id": "27291032-4886-4c9d-b84e-23bff0eb7944",
   "metadata": {},
   "outputs": [
    {
     "data": {
      "text/plain": [
       "122"
      ]
     },
     "execution_count": 38,
     "metadata": {},
     "output_type": "execute_result"
    }
   ],
   "source": [
    "sum(df[\"2_bus_after\"].notna())"
   ]
  },
  {
   "cell_type": "code",
   "execution_count": 39,
   "id": "ff112794-9868-42d6-86c7-0820ad52baae",
   "metadata": {},
   "outputs": [
    {
     "data": {
      "text/plain": [
       "10"
      ]
     },
     "execution_count": 39,
     "metadata": {},
     "output_type": "execute_result"
    }
   ],
   "source": [
    "# Number of households with a positive bus use change\n",
    "sum(df[\"bus_change\"] > 0)"
   ]
  },
  {
   "cell_type": "code",
   "execution_count": 40,
   "id": "5cf1e70d-54b2-4cfa-9dbb-13597acc8a88",
   "metadata": {},
   "outputs": [
    {
     "data": {
      "text/plain": [
       "8"
      ]
     },
     "execution_count": 40,
     "metadata": {},
     "output_type": "execute_result"
    }
   ],
   "source": [
    "# Number of households with a negative bus use change\n",
    "sum(df[\"bus_change\"] < 0)"
   ]
  },
  {
   "cell_type": "markdown",
   "id": "94b8836b-8d22-4c6b-a1a4-4225496c5fb4",
   "metadata": {},
   "source": [
    "## Now scooters 🛴"
   ]
  },
  {
   "cell_type": "code",
   "execution_count": 41,
   "id": "a4b1e2d2-d141-41b6-b5c3-5351ae53be6b",
   "metadata": {},
   "outputs": [
    {
     "data": {
      "text/plain": [
       "3"
      ]
     },
     "execution_count": 41,
     "metadata": {},
     "output_type": "execute_result"
    }
   ],
   "source": [
    "# Scooter use before LTN (and before Voi scooter docks installed)\n",
    "sum(df[\"2_scooter_before\"].apply(pd.to_numeric, errors=\"coerce\") > 0)"
   ]
  },
  {
   "cell_type": "code",
   "execution_count": 42,
   "id": "2d0292a6-354a-417c-93d5-9ad2e4835dbc",
   "metadata": {},
   "outputs": [
    {
     "data": {
      "text/plain": [
       "6"
      ]
     },
     "execution_count": 42,
     "metadata": {},
     "output_type": "execute_result"
    }
   ],
   "source": [
    "# Scooter use after LTN (and after Voi scooter docks installed)\n",
    "sum(df[\"2_scooter_after\"].apply(pd.to_numeric, errors=\"coerce\") > 0)"
   ]
  },
  {
   "cell_type": "markdown",
   "id": "24af3e4a-8c80-4d16-9552-286df3fe1a51",
   "metadata": {},
   "source": [
    "# Question 1 - \"Do you agree with reducing traffic in Littlemore?\""
   ]
  },
  {
   "cell_type": "code",
   "execution_count": 43,
   "id": "59ccb94f-aec3-4741-bcb0-5cf8346657f8",
   "metadata": {},
   "outputs": [
    {
     "data": {
      "text/plain": [
       "Index(['Yes', 'No', 'No opinion', nan], dtype='object', name='1_reduce_traffic')"
      ]
     },
     "execution_count": 43,
     "metadata": {},
     "output_type": "execute_result"
    }
   ],
   "source": [
    "# There has to be a better way of doing this\n",
    "good_index_order = (\n",
    "    df.groupby(\"cul_de_sac\")[\"1_reduce_traffic\"]\n",
    "    .value_counts(dropna=False, normalize=True)[1.0]\n",
    "    .index\n",
    ")\n",
    "good_index_order"
   ]
  },
  {
   "cell_type": "code",
   "execution_count": 44,
   "id": "26bc7861-3199-4b67-bf62-374db2f7e512",
   "metadata": {},
   "outputs": [
    {
     "data": {
      "text/plain": [
       "1_reduce_traffic\n",
       "Yes           0.575342\n",
       "No            0.223744\n",
       "No opinion    0.095890\n",
       "NaN           0.105023\n",
       "Name: 1_reduce_traffic, dtype: float64"
      ]
     },
     "execution_count": 44,
     "metadata": {},
     "output_type": "execute_result"
    }
   ],
   "source": [
    "df.groupby(\"cul_de_sac\")[\"1_reduce_traffic\"].value_counts(dropna=False, normalize=True)[0.0][\n",
    "    good_index_order\n",
    "]"
   ]
  },
  {
   "cell_type": "code",
   "execution_count": 45,
   "id": "9d5bd689-8776-458e-a0eb-72651408c3c8",
   "metadata": {},
   "outputs": [
    {
     "data": {
      "text/plain": [
       "{'All': [51.8095238095238,\n",
       "  28.000000000000004,\n",
       "  10.095238095238095,\n",
       "  10.095238095238095],\n",
       " 'Wants to remove LTN': [33.670033670033675,\n",
       "  43.09764309764309,\n",
       "  11.11111111111111,\n",
       "  12.121212121212121],\n",
       " 'Wants to keep LTN': [83.4319526627219,\n",
       "  7.6923076923076925,\n",
       "  5.325443786982249,\n",
       "  3.5502958579881656],\n",
       " 'Neutral on LTN future': [64.0, 4.0, 28.000000000000004, 4.0],\n",
       " 'No active travel': [44.522968197879855,\n",
       "  31.802120141342755,\n",
       "  9.89399293286219,\n",
       "  13.780918727915195],\n",
       " 'Uses active travel': [60.33057851239669,\n",
       "  23.553719008264462,\n",
       "  10.330578512396695,\n",
       "  5.785123966942149],\n",
       " 'Lives in cul-de-sac': [47.50830564784053,\n",
       "  32.55813953488372,\n",
       "  10.631229235880399,\n",
       "  9.30232558139535],\n",
       " \"Doesn't live in cul-de-sac\": [57.534246575342465,\n",
       "  22.37442922374429,\n",
       "  9.58904109589041,\n",
       "  10.50228310502283]}"
      ]
     },
     "execution_count": 45,
     "metadata": {},
     "output_type": "execute_result"
    }
   ],
   "source": [
    "# Split on LTN future\n",
    "conditions = [\n",
    "    (df[\"6_ltn_future\"] == \"Kept as is\") | (df[\"6_ltn_future\"] == \"Kept with alterations\"),\n",
    "    (df[\"6_ltn_future\"] == \"Removed\"),\n",
    "    (df[\"6_ltn_future\"] == \"Don't know\"),\n",
    "]\n",
    "values = [\"Keep\", \"Remove\", \"Neutral\"]\n",
    "df[\"6_ltn_future_simple\"] = np.select(conditions, values)\n",
    "ltn_future = df.groupby(\"6_ltn_future_simple\")[\"1_reduce_traffic\"].value_counts(\n",
    "    dropna=False, normalize=True\n",
    ")\n",
    "\n",
    "# Split on active travel\n",
    "conditions = [\n",
    "    (df[\"active_travel_after\"] > 0.0),\n",
    "    (df[\"active_travel_after\"] == 0.0),\n",
    "]\n",
    "values = [True, False]\n",
    "df[\"active_travel_after_bool\"] = np.select(conditions, values).astype(bool)\n",
    "active_travel = df.groupby(\"active_travel_after_bool\")[\"1_reduce_traffic\"].value_counts(\n",
    "    dropna=False, normalize=True\n",
    ")\n",
    "\n",
    "# Split on living in cul-de-sac\n",
    "cul_de_sac = df.groupby(\"cul_de_sac\")[\"1_reduce_traffic\"].value_counts(dropna=False, normalize=True)\n",
    "\n",
    "results = {\n",
    "    \"All\": pd.DataFrame(df[\"1_reduce_traffic\"].value_counts(dropna=False, normalize=True))[\n",
    "        \"1_reduce_traffic\"\n",
    "    ][good_index_order].tolist(),\n",
    "    \"Wants to remove LTN\": ltn_future[\"Remove\"][good_index_order].tolist(),\n",
    "    \"Wants to keep LTN\": ltn_future[\"Keep\"][good_index_order].tolist(),\n",
    "    \"Neutral on LTN future\": ltn_future[\"Neutral\"][good_index_order].tolist(),\n",
    "    \"No active travel\": active_travel[False][good_index_order].tolist(),\n",
    "    \"Uses active travel\": active_travel[True][good_index_order].tolist(),\n",
    "    \"Lives in cul-de-sac\": cul_de_sac[True][good_index_order].tolist(),\n",
    "    \"Doesn't live in cul-de-sac\": cul_de_sac[False][good_index_order].tolist(),\n",
    "}\n",
    "# Convert to percentages\n",
    "results = {k: list(map(lambda x: x * 100, v)) for k, v in results.items()}\n",
    "results"
   ]
  },
  {
   "cell_type": "code",
   "execution_count": 46,
   "id": "e2c7e50c-5797-461c-b187-4f9aa0a94d4b",
   "metadata": {},
   "outputs": [
    {
     "data": {
      "image/png": "[encoded data removed]",
      "text/plain": [
       "<Figure size 662.4x360 with 1 Axes>"
      ]
     },
     "metadata": {
      "needs_background": "light"
     },
     "output_type": "display_data"
    }
   ],
   "source": [
    "def survey(results, category_names):\n",
    "    \"\"\"\n",
    "    Parameters\n",
    "    ----------\n",
    "    results : dict\n",
    "        A mapping from question labels to a list of answers per category.\n",
    "        It is assumed all lists contain the same number of entries and that\n",
    "        it matches the length of *category_names*.\n",
    "    category_names : list of str\n",
    "        The category labels.\n",
    "    \"\"\"\n",
    "    labels = list(results.keys())\n",
    "    data = np.array(list(results.values()))\n",
    "    data_cum = data.cumsum(axis=1)\n",
    "    category_colors = plt.get_cmap()(np.linspace(0.15, 0.85, data.shape[1]))\n",
    "\n",
    "    fig, ax = plt.subplots(figsize=(9.2, 5))\n",
    "    ax.invert_yaxis()\n",
    "    ax.xaxis.set_visible(False)\n",
    "    ax.set_xlim(0, np.sum(data, axis=1).max())\n",
    "\n",
    "    for i, (colname, color) in enumerate(zip(category_names, category_colors)):\n",
    "        widths = data[:, i]\n",
    "        starts = data_cum[:, i] - widths\n",
    "        rects = ax.barh(labels, widths, left=starts, height=0.5, label=colname, color=color)\n",
    "\n",
    "        r, g, b, _ = color\n",
    "        text_color = \"white\" if r * g * b < 0.5 else \"darkgrey\"\n",
    "        ax.bar_label(rects, label_type=\"center\", color=text_color, fmt=\"%.0f%%\")\n",
    "    # ax.legend(ncol=len(category_names), bbox_to_anchor=(0, 1), loc=\"lower left\", fontsize=\"small\")\n",
    "    ax.legend(\n",
    "        ncol=len(category_names),\n",
    "        bbox_to_anchor=(0, -0.1),\n",
    "        loc=\"lower left\",\n",
    "        fontsize=\"small\",\n",
    "    )\n",
    "\n",
    "    return fig, ax\n",
    "\n",
    "\n",
    "category_names = [\"Yes\", \"No\", \"No opinion\", \"Did not answer\"]\n",
    "survey(results, category_names)\n",
    "plt.title(\"Are you in favour of reducing traffic in general in Littlemore?\")\n",
    "plt.savefig(\"img/01_reducing_traffic.png\", bbox_inches=\"tight\")\n",
    "plt.show()"
   ]
  },
  {
   "cell_type": "markdown",
   "id": "62649d30-78c2-4b24-ba53-5cb8f2789347",
   "metadata": {},
   "source": [
    "# Question 4 - LTN impact on households\n",
    "\n",
    "Here we are going to ignore the 15\\% of respondants that did not answer this question. I expect the placement of this question right at the very top of the page caused some people to miss it. "
   ]
  },
  {
   "cell_type": "code",
   "execution_count": 97,
   "id": "a90fe2bb-1c18-46c3-9833-c4b5b2aff454",
   "metadata": {},
   "outputs": [
    {
     "data": {
      "text/plain": [
       "15.047619047619047"
      ]
     },
     "execution_count": 97,
     "metadata": {},
     "output_type": "execute_result"
    }
   ],
   "source": [
    "# %age respondents who missed question 4\n",
    "100 * df[\"4_ltn_impact\"].isna().astype(int).sum() / len(df)"
   ]
  },
  {
   "cell_type": "code",
   "execution_count": 47,
   "id": "8f033ba3-a341-41f9-aad6-a4d371b29914",
   "metadata": {},
   "outputs": [],
   "source": [
    "df[\"school_run_drive\"] = df[\"3_drive_reasons\"].str.contains(\"School run\").fillna(value=False)"
   ]
  },
  {
   "cell_type": "code",
   "execution_count": 48,
   "id": "a1109028-d9cc-4250-bad4-b529b55cfc5e",
   "metadata": {},
   "outputs": [
    {
     "data": {
      "text/plain": [
       "False    421\n",
       "True     104\n",
       "Name: school_run_drive, dtype: int64"
      ]
     },
     "execution_count": 48,
     "metadata": {},
     "output_type": "execute_result"
    }
   ],
   "source": [
    "df[\"school_run_drive\"].value_counts()"
   ]
  },
  {
   "cell_type": "code",
   "execution_count": 49,
   "id": "721640bf-f250-4f49-8f25-cbe480ec7608",
   "metadata": {},
   "outputs": [
    {
     "data": {
      "text/plain": [
       "{'All': [10.089686098654708,\n",
       "  7.174887892376682,\n",
       "  11.659192825112108,\n",
       "  17.48878923766816,\n",
       "  53.58744394618834]}"
      ]
     },
     "execution_count": 49,
     "metadata": {},
     "output_type": "execute_result"
    }
   ],
   "source": [
    "qu4_results = {\n",
    "    \"All\": df[\"4_ltn_impact\"].value_counts(dropna=True, normalize=True).sort_index().tolist()\n",
    "}\n",
    "qu4_results = {k: list(map(lambda x: x * 100, v)) for k, v in qu4_results.items()}\n",
    "qu4_results"
   ]
  },
  {
   "cell_type": "code",
   "execution_count": 50,
   "id": "9979712a-921e-4161-8c64-09cd0cf9fabe",
   "metadata": {},
   "outputs": [
    {
     "data": {
      "image/png": "[encoded data removed]",
      "text/plain": [
       "<Figure size 662.4x360 with 1 Axes>"
      ]
     },
     "metadata": {
      "needs_background": "light"
     },
     "output_type": "display_data"
    }
   ],
   "source": [
    "qu4_category_names = [\n",
    "    \"Very positive\",\n",
    "    \"Slightly positive\",\n",
    "    \"Neutral\",\n",
    "    \"Slightly negative\",\n",
    "    \"Very negative\",\n",
    "]\n",
    "survey(qu4_results, qu4_category_names)\n",
    "plt.title(\"Impact of the LTN on households in Littlemore\")\n",
    "plt.show()"
   ]
  },
  {
   "cell_type": "markdown",
   "id": "1923a8ba-4b4d-4ae4-93b1-8ffd65edd91e",
   "metadata": {},
   "source": [
    "## Let's try adding some more categories"
   ]
  },
  {
   "cell_type": "code",
   "execution_count": 51,
   "id": "48ade827-81a4-4712-8282-4bbadea72203",
   "metadata": {},
   "outputs": [
    {
     "data": {
      "text/plain": [
       "school_run_drive  4_ltn_impact\n",
       "False             1.0             0.121469\n",
       "                  2.0             0.079096\n",
       "                  3.0             0.129944\n",
       "                  4.0             0.166667\n",
       "                  5.0             0.502825\n",
       "True              1.0             0.021739\n",
       "                  2.0             0.043478\n",
       "                  3.0             0.065217\n",
       "                  4.0             0.206522\n",
       "                  5.0             0.663043\n",
       "Name: 4_ltn_impact, dtype: float64"
      ]
     },
     "execution_count": 51,
     "metadata": {},
     "output_type": "execute_result"
    }
   ],
   "source": [
    "school_run = (\n",
    "    df.groupby(\"school_run_drive\")[\"4_ltn_impact\"]\n",
    "    .value_counts(dropna=True, normalize=True)\n",
    "    .sort_index()\n",
    ")\n",
    "school_run"
   ]
  },
  {
   "cell_type": "code",
   "execution_count": 52,
   "id": "d1a2e284-12e8-46d7-9aa0-8b61f0c7170c",
   "metadata": {},
   "outputs": [
    {
     "data": {
      "text/plain": [
       "{'All': [10.089686098654708,\n",
       "  7.174887892376682,\n",
       "  11.659192825112108,\n",
       "  17.48878923766816,\n",
       "  53.58744394618834],\n",
       " 'Has driving school run': [2.1739130434782608,\n",
       "  4.3478260869565215,\n",
       "  6.521739130434782,\n",
       "  20.652173913043477,\n",
       "  66.30434782608695],\n",
       " 'No driving school run': [12.146892655367232,\n",
       "  7.909604519774012,\n",
       "  12.994350282485875,\n",
       "  16.666666666666664,\n",
       "  50.282485875706215]}"
      ]
     },
     "execution_count": 52,
     "metadata": {},
     "output_type": "execute_result"
    }
   ],
   "source": [
    "qu4_results[\"Has driving school run\"] = [100 * i for i in school_run[True].tolist()]\n",
    "qu4_results[\"No driving school run\"] = [100 * i for i in school_run[False].tolist()]\n",
    "qu4_results"
   ]
  },
  {
   "cell_type": "code",
   "execution_count": 53,
   "id": "1be0713e-1cb5-4ae0-b5e6-7577b4bda206",
   "metadata": {},
   "outputs": [
    {
     "data": {
      "image/png": "[encoded data removed]",
      "text/plain": [
       "<Figure size 662.4x360 with 1 Axes>"
      ]
     },
     "metadata": {
      "needs_background": "light"
     },
     "output_type": "display_data"
    }
   ],
   "source": [
    "survey(qu4_results, qu4_category_names)\n",
    "plt.title(\"Impact of the LTN on households in Littlemore\")\n",
    "plt.show()"
   ]
  },
  {
   "cell_type": "code",
   "execution_count": 54,
   "id": "846f5e10-d4e7-4819-9124-beb3129470a7",
   "metadata": {},
   "outputs": [
    {
     "data": {
      "text/plain": [
       "active_travel_after_bool  4_ltn_impact\n",
       "False                     1.0             0.052863\n",
       "                          2.0             0.048458\n",
       "                          3.0             0.110132\n",
       "                          4.0             0.176211\n",
       "                          5.0             0.612335\n",
       "True                      1.0             0.150685\n",
       "                          2.0             0.095890\n",
       "                          3.0             0.123288\n",
       "                          4.0             0.173516\n",
       "                          5.0             0.456621\n",
       "Name: 4_ltn_impact, dtype: float64"
      ]
     },
     "execution_count": 54,
     "metadata": {},
     "output_type": "execute_result"
    }
   ],
   "source": [
    "active_travel = (\n",
    "    df.groupby(\"active_travel_after_bool\")[\"4_ltn_impact\"]\n",
    "    .value_counts(dropna=True, normalize=True)\n",
    "    .sort_index()\n",
    ")\n",
    "active_travel"
   ]
  },
  {
   "cell_type": "code",
   "execution_count": 55,
   "id": "3e53dbdd-d8a3-4ae0-b0ca-210272288169",
   "metadata": {},
   "outputs": [
    {
     "data": {
      "image/png": "[encoded data removed]",
      "text/plain": [
       "<Figure size 662.4x360 with 1 Axes>"
      ]
     },
     "metadata": {
      "needs_background": "light"
     },
     "output_type": "display_data"
    }
   ],
   "source": [
    "qu4_results[\"No active travel\"] = [100 * i for i in active_travel[False].tolist()]\n",
    "qu4_results[\"Uses active travel\"] = [100 * i for i in active_travel[True].tolist()]\n",
    "survey(qu4_results, qu4_category_names)\n",
    "plt.suptitle(\"Impact of the LTN on households in Littlemore\")\n",
    "plt.title(\"By travel mode\")\n",
    "plt.savefig(\"img/02_ltn_impact_travel_mode.png\", bbox_inches=\"tight\")\n",
    "plt.show()"
   ]
  },
  {
   "cell_type": "code",
   "execution_count": 56,
   "id": "bed5d0d7-5d87-4e3b-940f-c02063ff4edc",
   "metadata": {},
   "outputs": [
    {
     "data": {
      "text/plain": [
       "100.0"
      ]
     },
     "execution_count": 56,
     "metadata": {},
     "output_type": "execute_result"
    }
   ],
   "source": [
    "df[\"inside_ltn\"].astype(float).sum()"
   ]
  },
  {
   "cell_type": "code",
   "execution_count": 57,
   "id": "1b70d701-2b21-4a99-97d2-27bd21e784a6",
   "metadata": {},
   "outputs": [
    {
     "data": {
      "text/plain": [
       "42.0"
      ]
     },
     "execution_count": 57,
     "metadata": {},
     "output_type": "execute_result"
    }
   ],
   "source": [
    "df[\"borders_ltn\"].astype(float).sum()"
   ]
  },
  {
   "cell_type": "code",
   "execution_count": 58,
   "id": "8720afd8-68d3-4e63-aa55-dfd5f0ae75fa",
   "metadata": {},
   "outputs": [
    {
     "data": {
      "text/plain": [
       "378.0"
      ]
     },
     "execution_count": 58,
     "metadata": {},
     "output_type": "execute_result"
    }
   ],
   "source": [
    "df[\"outside_ltn\"].astype(float).sum()"
   ]
  },
  {
   "cell_type": "markdown",
   "id": "c19fddf7-d60a-4a14-a19f-54579ea82259",
   "metadata": {},
   "source": [
    "## Want to explore driving distance to LTN vs impact"
   ]
  },
  {
   "cell_type": "code",
   "execution_count": 59,
   "id": "6477997d-1f53-48af-932e-8dc7a097a927",
   "metadata": {},
   "outputs": [
    {
     "data": {
      "image/png": "[encoded data removed]",
      "text/plain": [
       "<Figure size 662.4x360 with 1 Axes>"
      ]
     },
     "metadata": {
      "needs_background": "light"
     },
     "output_type": "display_data"
    }
   ],
   "source": [
    "qu4_results_location = {\n",
    "    \"All\": qu4_results[\"All\"],\n",
    "    \"Inside LTN\": [\n",
    "        100 * i\n",
    "        for i in df.groupby(\"inside_ltn\")[\"4_ltn_impact\"]\n",
    "        .value_counts(dropna=True, normalize=True)\n",
    "        .sort_index()[True]\n",
    "        .tolist()\n",
    "    ],\n",
    "    \"Borders LTN\": [\n",
    "        100 * i\n",
    "        for i in df.groupby(\"borders_ltn\")[\"4_ltn_impact\"]\n",
    "        .value_counts(dropna=True, normalize=True)\n",
    "        .sort_index()[True]\n",
    "        .tolist()\n",
    "    ],\n",
    "    \"Outside LTN\": [\n",
    "        100 * i\n",
    "        for i in df.groupby(\"outside_ltn\")[\"4_ltn_impact\"]\n",
    "        .value_counts(dropna=True, normalize=True)\n",
    "        .sort_index()[True]\n",
    "        .tolist()\n",
    "    ],\n",
    "}\n",
    "survey(qu4_results_location, qu4_category_names)\n",
    "plt.suptitle(\"Impact of the LTN on households in Littlemore\")\n",
    "plt.title(\"By location\")\n",
    "plt.savefig(\"img/03_ltn_impact_location.png\", bbox_inches=\"tight\")\n",
    "plt.show()"
   ]
  },
  {
   "cell_type": "code",
   "execution_count": 60,
   "id": "84ff2cdf-315a-48b4-91ea-84fb96f9786e",
   "metadata": {},
   "outputs": [
    {
     "data": {
      "text/plain": [
       "{1: 'Very positive',\n",
       " 2: 'Slightly positive',\n",
       " 3: 'Neutral',\n",
       " 4: 'Slightly negative',\n",
       " 5: 'Very negative'}"
      ]
     },
     "execution_count": 60,
     "metadata": {},
     "output_type": "execute_result"
    }
   ],
   "source": [
    "impact_dict = dict(zip(range(1, 6), qu4_category_names))\n",
    "impact_dict"
   ]
  },
  {
   "cell_type": "code",
   "execution_count": 61,
   "id": "9e4c81ab-7623-4129-843c-ae888e982a41",
   "metadata": {},
   "outputs": [
    {
     "data": {
      "text/html": [
       "<div>\n",
       "<style scoped>\n",
       "    .dataframe tbody tr th:only-of-type {\n",
       "        vertical-align: middle;\n",
       "    }\n",
       "\n",
       "    .dataframe tbody tr th {\n",
       "        vertical-align: top;\n",
       "    }\n",
       "\n",
       "    .dataframe thead th {\n",
       "        text-align: right;\n",
       "    }\n",
       "</style>\n",
       "<table border=\"1\" class=\"dataframe\">\n",
       "  <thead>\n",
       "    <tr style=\"text-align: right;\">\n",
       "      <th></th>\n",
       "      <th>4_ltn_impact</th>\n",
       "      <th>4_ltn_impact_category</th>\n",
       "    </tr>\n",
       "  </thead>\n",
       "  <tbody>\n",
       "    <tr>\n",
       "      <th>0</th>\n",
       "      <td>1.0</td>\n",
       "      <td>Very positive</td>\n",
       "    </tr>\n",
       "    <tr>\n",
       "      <th>1</th>\n",
       "      <td>NaN</td>\n",
       "      <td>NaN</td>\n",
       "    </tr>\n",
       "    <tr>\n",
       "      <th>2</th>\n",
       "      <td>NaN</td>\n",
       "      <td>NaN</td>\n",
       "    </tr>\n",
       "    <tr>\n",
       "      <th>3</th>\n",
       "      <td>4.0</td>\n",
       "      <td>Slightly negative</td>\n",
       "    </tr>\n",
       "    <tr>\n",
       "      <th>4</th>\n",
       "      <td>5.0</td>\n",
       "      <td>Very negative</td>\n",
       "    </tr>\n",
       "    <tr>\n",
       "      <th>...</th>\n",
       "      <td>...</td>\n",
       "      <td>...</td>\n",
       "    </tr>\n",
       "    <tr>\n",
       "      <th>520</th>\n",
       "      <td>5.0</td>\n",
       "      <td>Very negative</td>\n",
       "    </tr>\n",
       "    <tr>\n",
       "      <th>521</th>\n",
       "      <td>5.0</td>\n",
       "      <td>Very negative</td>\n",
       "    </tr>\n",
       "    <tr>\n",
       "      <th>522</th>\n",
       "      <td>5.0</td>\n",
       "      <td>Very negative</td>\n",
       "    </tr>\n",
       "    <tr>\n",
       "      <th>523</th>\n",
       "      <td>NaN</td>\n",
       "      <td>NaN</td>\n",
       "    </tr>\n",
       "    <tr>\n",
       "      <th>524</th>\n",
       "      <td>5.0</td>\n",
       "      <td>Very negative</td>\n",
       "    </tr>\n",
       "  </tbody>\n",
       "</table>\n",
       "<p>525 rows × 2 columns</p>\n",
       "</div>"
      ],
      "text/plain": [
       "     4_ltn_impact 4_ltn_impact_category\n",
       "0             1.0         Very positive\n",
       "1             NaN                   NaN\n",
       "2             NaN                   NaN\n",
       "3             4.0     Slightly negative\n",
       "4             5.0         Very negative\n",
       "..            ...                   ...\n",
       "520           5.0         Very negative\n",
       "521           5.0         Very negative\n",
       "522           5.0         Very negative\n",
       "523           NaN                   NaN\n",
       "524           5.0         Very negative\n",
       "\n",
       "[525 rows x 2 columns]"
      ]
     },
     "execution_count": 61,
     "metadata": {},
     "output_type": "execute_result"
    }
   ],
   "source": [
    "df[\"4_ltn_impact_category\"] = pd.Categorical(\n",
    "    df[\"4_ltn_impact\"].map(impact_dict), categories=qu4_category_names\n",
    ")\n",
    "df[[\"4_ltn_impact\", \"4_ltn_impact_category\"]]"
   ]
  },
  {
   "cell_type": "code",
   "execution_count": 62,
   "id": "655a1d1c-85b6-4cef-bc03-292026846010",
   "metadata": {},
   "outputs": [
    {
     "data": {
      "text/plain": [
       "['Very positive',\n",
       " 'Slightly positive',\n",
       " 'Neutral',\n",
       " 'Slightly negative',\n",
       " 'Very negative']"
      ]
     },
     "execution_count": 62,
     "metadata": {},
     "output_type": "execute_result"
    }
   ],
   "source": [
    "qu4_category_names"
   ]
  },
  {
   "cell_type": "code",
   "execution_count": 63,
   "id": "17304745-4ef3-4d12-8934-96ee13b61207",
   "metadata": {},
   "outputs": [
    {
     "data": {
      "image/png": "[encoded data removed]",
      "text/plain": [
       "<Figure size 720x576 with 1 Axes>"
      ]
     },
     "metadata": {
      "needs_background": "light"
     },
     "output_type": "display_data"
    }
   ],
   "source": [
    "fig, ax = plt.subplots(figsize=(10, 8))\n",
    "boxplot = df.boxplot(\n",
    "    column=[\"driving_distance_to_ltn_meters\"],\n",
    "    by=\"4_ltn_impact_category\",\n",
    "    ax=ax,\n",
    "    return_type=\"axes\",\n",
    ")\n",
    "# Do some label and title tweaking\n",
    "[ax_tmp.set_xlabel(\"LTN impact\") for ax_tmp in np.asarray(boxplot).reshape(-1)]\n",
    "[\n",
    "    ax_tmp.set_ylabel(\"Driving distance to LTN (meters)\")\n",
    "    for ax_tmp in np.asarray(boxplot).reshape(-1)\n",
    "]\n",
    "[\n",
    "    ax_tmp.set_title(\"Relationship between driving distance to LTN and LTN impact\")\n",
    "    for ax_tmp in np.asarray(boxplot).reshape(-1)\n",
    "]  #\n",
    "fig = np.asarray(boxplot).reshape(-1)[0].get_figure()\n",
    "fig.suptitle(\"\")\n",
    "plt.savefig(\"img/04_ltn_impact_distance.png\", bbox_inches=\"tight\")\n",
    "plt.show()"
   ]
  },
  {
   "cell_type": "markdown",
   "id": "515897c2-c1a6-46ce-a071-21f456b08969",
   "metadata": {},
   "source": [
    "This box plot isn't that revealing, will try a distance vs. impact score scatter plot instead"
   ]
  },
  {
   "cell_type": "code",
   "execution_count": 101,
   "id": "8107d166-b980-48a9-958d-b94de7f51cd6",
   "metadata": {},
   "outputs": [
    {
     "data": {
      "image/png": "[encoded data removed]",
      "text/plain": [
       "<Figure size 432x288 with 1 Axes>"
      ]
     },
     "metadata": {
      "needs_background": "light"
     },
     "output_type": "display_data"
    }
   ],
   "source": [
    "ax1 = df.plot.scatter(x=\"driving_distance_to_ltn_meters\", y=\"4_ltn_impact\", alpha=0.4)"
   ]
  },
  {
   "cell_type": "code",
   "execution_count": 116,
   "id": "11d9cb3a-5b71-42c7-859a-7282e892af3f",
   "metadata": {},
   "outputs": [
    {
     "data": {
      "image/png": "[encoded data removed]",
      "text/plain": [
       "<Figure size 432x288 with 1 Axes>"
      ]
     },
     "metadata": {
      "needs_background": "light"
     },
     "output_type": "display_data"
    }
   ],
   "source": [
    "ax1 = df.plot.scatter(x=\"active_travel_prop_mean\", y=\"4_ltn_impact\", alpha=0.4)"
   ]
  },
  {
   "cell_type": "code",
   "execution_count": 118,
   "id": "1cd710ff-2499-4290-8927-895de38eec55",
   "metadata": {},
   "outputs": [
    {
     "data": {
      "image/png": "[encoded data removed]",
      "text/plain": [
       "<Figure size 720x576 with 1 Axes>"
      ]
     },
     "metadata": {
      "needs_background": "light"
     },
     "output_type": "display_data"
    }
   ],
   "source": [
    "fig, ax = plt.subplots(figsize=(10, 8))\n",
    "boxplot = df.boxplot(\n",
    "    column=[\"active_travel_prop_mean\"],\n",
    "    by=\"4_ltn_impact_category\",\n",
    "    ax=ax,\n",
    "    return_type=\"axes\",\n",
    ")\n",
    "# Do some label and title tweaking\n",
    "[ax_tmp.set_xlabel(\"LTN impact\") for ax_tmp in np.asarray(boxplot).reshape(-1)]\n",
    "[\n",
    "    ax_tmp.set_ylabel(\"Active travel proportion (by number of trips)\")\n",
    "    for ax_tmp in np.asarray(boxplot).reshape(-1)\n",
    "]\n",
    "[\n",
    "    ax_tmp.set_title(\"Relationship between active travel proportion and LTN impact\")\n",
    "    for ax_tmp in np.asarray(boxplot).reshape(-1)\n",
    "]  #\n",
    "fig = np.asarray(boxplot).reshape(-1)[0].get_figure()\n",
    "fig.suptitle(\"\")\n",
    "plt.savefig(\"img/11_ltn_impact_active_travel_prop.png\", bbox_inches=\"tight\")\n",
    "plt.show()"
   ]
  },
  {
   "cell_type": "markdown",
   "id": "7657e6d5-db8f-4f04-8ecf-bb2e9397c7be",
   "metadata": {},
   "source": [
    "# Qu 5: opinions on individual filters"
   ]
  },
  {
   "cell_type": "code",
   "execution_count": 64,
   "id": "f2d728c9-cccc-47b9-a0c7-8cbd32ac32af",
   "metadata": {},
   "outputs": [
    {
     "data": {
      "image/png": "[encoded data removed]",
      "text/plain": [
       "<Figure size 662.4x360 with 1 Axes>"
      ]
     },
     "metadata": {
      "needs_background": "light"
     },
     "output_type": "display_data"
    }
   ],
   "source": [
    "filter_category_order = [\"Agree\", \"Change\", \"Remove\", \"No opinion\"]\n",
    "qu5_results = {\n",
    "    \"Liddell Road\": df[\"5_liddell_road\"]\n",
    "    .value_counts(dropna=True, normalize=True)[filter_category_order]\n",
    "    .tolist(),\n",
    "    \"Beauchamp Lane\": df[\"5_beauchamp_lane\"]\n",
    "    .value_counts(dropna=True, normalize=True)[filter_category_order]\n",
    "    .tolist(),\n",
    "    \"Mayfair Road\": df[\"5_mayfair_road\"]\n",
    "    .value_counts(dropna=True, normalize=True)[filter_category_order]\n",
    "    .tolist(),\n",
    "    \"Church Hill Road\": df[\"5_church_hill_road\"]\n",
    "    .value_counts(dropna=True, normalize=True)[filter_category_order]\n",
    "    .tolist(),\n",
    "    \"Bartholomew Road\": df[\"5_bartholomew_road\"]\n",
    "    .value_counts(dropna=True, normalize=True)[filter_category_order]\n",
    "    .tolist(),\n",
    "    \"Littlemore Road\": df[\"5_littlemore_road\"]\n",
    "    .value_counts(dropna=True, normalize=True)[filter_category_order]\n",
    "    .tolist(),\n",
    "}\n",
    "\n",
    "qu5_results = {\n",
    "    k: list(map(lambda x: x * 100, v)) for k, v in qu5_results.items()\n",
    "}  # Convert to percentages\n",
    "survey(qu5_results, filter_category_order)\n",
    "plt.title(\"Views on locations of individual traffic filters\")\n",
    "plt.savefig(\"img/05_individual_filters.png\", bbox_inches=\"tight\")\n",
    "plt.show()"
   ]
  },
  {
   "cell_type": "code",
   "execution_count": 65,
   "id": "6ed012c6-2dd7-4eb3-ad55-beb1f94ae887",
   "metadata": {},
   "outputs": [
    {
     "data": {
      "image/png": "[encoded data removed]",
      "text/plain": [
       "<Figure size 662.4x360 with 1 Axes>"
      ]
     },
     "metadata": {
      "needs_background": "light"
     },
     "output_type": "display_data"
    }
   ],
   "source": [
    "qu5_results_inside_ltn = {\n",
    "    \"Liddell Road\": df[df[\"inside_ltn\"] == True][\"5_liddell_road\"]\n",
    "    .value_counts(dropna=True, normalize=True)[filter_category_order]\n",
    "    .tolist(),\n",
    "    \"Beauchamp Lane\": df[df[\"inside_ltn\"] == True][\"5_beauchamp_lane\"]\n",
    "    .value_counts(dropna=True, normalize=True)[filter_category_order]\n",
    "    .tolist(),\n",
    "    \"Mayfair Road\": df[df[\"inside_ltn\"] == True][\"5_mayfair_road\"]\n",
    "    .value_counts(dropna=True, normalize=True)[filter_category_order]\n",
    "    .tolist(),\n",
    "    \"Church Hill Road\": df[df[\"inside_ltn\"] == True][\"5_church_hill_road\"]\n",
    "    .value_counts(dropna=True, normalize=True)[filter_category_order]\n",
    "    .tolist(),\n",
    "    \"Bartholomew Road\": df[df[\"inside_ltn\"] == True][\"5_bartholomew_road\"]\n",
    "    .value_counts(dropna=True, normalize=True)[filter_category_order]\n",
    "    .tolist(),\n",
    "    \"Littlemore Road\": df[df[\"inside_ltn\"] == True][\"5_littlemore_road\"]\n",
    "    .value_counts(dropna=True, normalize=True)[filter_category_order]\n",
    "    .tolist(),\n",
    "}\n",
    "\n",
    "qu5_results_inside_ltn = {\n",
    "    k: list(map(lambda x: x * 100, v)) for k, v in qu5_results_inside_ltn.items()\n",
    "}  # Convert to percentages\n",
    "survey(qu5_results_inside_ltn, filter_category_order)\n",
    "plt.suptitle(\"Views on locations of individual traffic filters\")\n",
    "plt.title(\"Households that live inside the LTN\")\n",
    "plt.savefig(\"img/06_individual_filters_inside_ltn.png\", bbox_inches=\"tight\")\n",
    "plt.show()"
   ]
  },
  {
   "cell_type": "code",
   "execution_count": 66,
   "id": "fe2e3435-b6c0-4054-845b-3a6df990906a",
   "metadata": {},
   "outputs": [
    {
     "data": {
      "image/png": "[encoded data removed]",
      "text/plain": [
       "<Figure size 662.4x360 with 1 Axes>"
      ]
     },
     "metadata": {
      "needs_background": "light"
     },
     "output_type": "display_data"
    }
   ],
   "source": [
    "qu5_results_outside_ltn = {\n",
    "    \"Liddell Road\": df[df[\"outside_ltn\"] == True][\"5_liddell_road\"]\n",
    "    .value_counts(dropna=True, normalize=True)[filter_category_order]\n",
    "    .tolist(),\n",
    "    \"Beauchamp Lane\": df[df[\"outside_ltn\"] == True][\"5_beauchamp_lane\"]\n",
    "    .value_counts(dropna=True, normalize=True)[filter_category_order]\n",
    "    .tolist(),\n",
    "    \"Mayfair Road\": df[df[\"outside_ltn\"] == True][\"5_mayfair_road\"]\n",
    "    .value_counts(dropna=True, normalize=True)[filter_category_order]\n",
    "    .tolist(),\n",
    "    \"Church Hill Road\": df[df[\"outside_ltn\"] == True][\"5_church_hill_road\"]\n",
    "    .value_counts(dropna=True, normalize=True)[filter_category_order]\n",
    "    .tolist(),\n",
    "    \"Bartholomew Road\": df[df[\"outside_ltn\"] == True][\"5_bartholomew_road\"]\n",
    "    .value_counts(dropna=True, normalize=True)[filter_category_order]\n",
    "    .tolist(),\n",
    "    \"Littlemore Road\": df[df[\"outside_ltn\"] == True][\"5_littlemore_road\"]\n",
    "    .value_counts(dropna=True, normalize=True)[filter_category_order]\n",
    "    .tolist(),\n",
    "}\n",
    "\n",
    "qu5_results_outside_ltn = {\n",
    "    k: list(map(lambda x: x * 100, v)) for k, v in qu5_results_outside_ltn.items()\n",
    "}  # Convert to percentages\n",
    "survey(qu5_results_outside_ltn, filter_category_order)\n",
    "plt.suptitle(\"Views on locations of individual traffic filters\")\n",
    "plt.title(\"Households that live outside the LTN\")\n",
    "plt.savefig(\"img/07_individual_filters_outside_ltn.png\", bbox_inches=\"tight\")\n",
    "plt.show()"
   ]
  },
  {
   "cell_type": "code",
   "execution_count": 67,
   "id": "0c56f6b8-0cb1-4ec9-ad5b-6530f165a5d0",
   "metadata": {},
   "outputs": [
    {
     "data": {
      "image/png": "[encoded data removed]",
      "text/plain": [
       "<Figure size 662.4x360 with 1 Axes>"
      ]
     },
     "metadata": {
      "needs_background": "light"
     },
     "output_type": "display_data"
    }
   ],
   "source": [
    "# Only 40ish in this category so sometimes some categories are missing; add these manually with a pd.Series.append call\n",
    "qu5_results_borders_ltn = {\n",
    "    \"Liddell Road\": df[df[\"borders_ltn\"] == True][\"5_liddell_road\"]\n",
    "    .value_counts(dropna=True, normalize=True)\n",
    "    .append(pd.Series([0.0], index=[\"Change\"]))[filter_category_order]\n",
    "    .tolist(),\n",
    "    \"Beauchamp Lane\": df[df[\"borders_ltn\"] == True][\"5_beauchamp_lane\"]\n",
    "    .value_counts(dropna=True, normalize=True)\n",
    "    .append(pd.Series([0.0], index=[\"Change\"]))[filter_category_order]\n",
    "    .tolist(),\n",
    "    \"Mayfair Road\": df[df[\"borders_ltn\"] == True][\"5_mayfair_road\"]\n",
    "    .value_counts(dropna=True, normalize=True)[filter_category_order]\n",
    "    .tolist(),\n",
    "    \"Church Hill Road\": df[df[\"borders_ltn\"] == True][\"5_church_hill_road\"]\n",
    "    .value_counts(dropna=True, normalize=True)[filter_category_order]\n",
    "    .tolist(),\n",
    "    \"Bartholomew Road\": df[df[\"borders_ltn\"] == True][\"5_bartholomew_road\"]\n",
    "    .value_counts(dropna=True, normalize=True)[filter_category_order]\n",
    "    .tolist(),\n",
    "    \"Littlemore Road\": df[df[\"borders_ltn\"] == True][\"5_littlemore_road\"]\n",
    "    .value_counts(dropna=True, normalize=True)[filter_category_order]\n",
    "    .tolist(),\n",
    "}\n",
    "\n",
    "qu5_results_borders_ltn = {\n",
    "    k: list(map(lambda x: x * 100, v)) for k, v in qu5_results_borders_ltn.items()\n",
    "}  # Convert to percentages\n",
    "survey(qu5_results_borders_ltn, filter_category_order)\n",
    "plt.suptitle(\"Views on locations of individual traffic filters\")\n",
    "plt.title(\"Households that border the LTN\")\n",
    "plt.savefig(\"img/08_individual_filters_border_ltn.png\", bbox_inches=\"tight\")\n",
    "plt.show()"
   ]
  },
  {
   "cell_type": "markdown",
   "id": "37a0fb20-a51f-4990-894e-3ee322c6c392",
   "metadata": {},
   "source": [
    "## Nuance on filter views"
   ]
  },
  {
   "cell_type": "code",
   "execution_count": 123,
   "id": "ed0291ee-5906-4b3d-9fe9-a4db5b5323e1",
   "metadata": {},
   "outputs": [
    {
     "data": {
      "text/plain": [
       "0             0.573333\n",
       "Remove        0.270476\n",
       "Agree         0.087619\n",
       "No opinion    0.055238\n",
       "Change        0.013333\n",
       "Name: 5_nuance, dtype: float64"
      ]
     },
     "execution_count": 123,
     "metadata": {},
     "output_type": "execute_result"
    }
   ],
   "source": [
    "conditions = [\n",
    "    (df[\"5_liddell_road\"] == \"Agree\")\n",
    "    & (df[\"5_beauchamp_lane\"] == \"Agree\")\n",
    "    & (df[\"5_mayfair_road\"] == \"Agree\")\n",
    "    & (df[\"5_church_hill_road\"] == \"Agree\")\n",
    "    & (df[\"5_bartholomew_road\"] == \"Agree\")\n",
    "    & (df[\"5_littlemore_road\"] == \"Agree\"),\n",
    "    (df[\"5_liddell_road\"] == \"Change\")\n",
    "    & (df[\"5_beauchamp_lane\"] == \"Change\")\n",
    "    & (df[\"5_mayfair_road\"] == \"Change\")\n",
    "    & (df[\"5_church_hill_road\"] == \"Change\")\n",
    "    & (df[\"5_bartholomew_road\"] == \"Change\")\n",
    "    & (df[\"5_littlemore_road\"] == \"Change\"),\n",
    "    (df[\"5_liddell_road\"] == \"Remove\")\n",
    "    & (df[\"5_beauchamp_lane\"] == \"Remove\")\n",
    "    & (df[\"5_mayfair_road\"] == \"Remove\")\n",
    "    & (df[\"5_church_hill_road\"] == \"Remove\")\n",
    "    & (df[\"5_bartholomew_road\"] == \"Remove\")\n",
    "    & (df[\"5_littlemore_road\"] == \"Remove\"),\n",
    "    (df[\"5_liddell_road\"] == \"No opinion\")\n",
    "    & (df[\"5_beauchamp_lane\"] == \"No opinion\")\n",
    "    & (df[\"5_mayfair_road\"] == \"No opinion\")\n",
    "    & (df[\"5_church_hill_road\"] == \"No opinion\")\n",
    "    & (df[\"5_bartholomew_road\"] == \"No opinion\")\n",
    "    & (df[\"5_littlemore_road\"] == \"No opinion\"),\n",
    "]\n",
    "values = [\"Agree\", \"Change\", \"Remove\", \"No opinion\"]\n",
    "df[\"5_nuance\"] = np.select(conditions, values)\n",
    "df[\"5_nuance\"].value_counts(dropna=False, normalize=True)"
   ]
  },
  {
   "cell_type": "markdown",
   "id": "97af6fb4-9452-4b00-bb18-33e1f61bd1b5",
   "metadata": {},
   "source": [
    "# Question 6: future of Cowley LTN"
   ]
  },
  {
   "cell_type": "code",
   "execution_count": 119,
   "id": "ae42c66d-34ca-4857-a874-a61e91a4d835",
   "metadata": {},
   "outputs": [
    {
     "data": {
      "text/plain": [
       "6.476190476190476"
      ]
     },
     "execution_count": 119,
     "metadata": {},
     "output_type": "execute_result"
    }
   ],
   "source": [
    "# %age respondents who missed question 6\n",
    "100 * df[\"6_ltn_future\"].isna().astype(int).sum() / len(df)"
   ]
  },
  {
   "cell_type": "code",
   "execution_count": 68,
   "id": "b8a683ad-59e0-4eea-83f7-a76294a217ae",
   "metadata": {},
   "outputs": [
    {
     "data": {
      "image/png": "[encoded data removed]",
      "text/plain": [
       "<Figure size 662.4x360 with 1 Axes>"
      ]
     },
     "metadata": {
      "needs_background": "light"
     },
     "output_type": "display_data"
    }
   ],
   "source": [
    "qu6_categories = [\"Kept as is\", \"Kept with alterations\", \"Removed\", \"Don't know\"]\n",
    "qu6_results = {\n",
    "    \"All\": [\n",
    "        100 * i\n",
    "        for i in df[\"6_ltn_future\"]\n",
    "        .value_counts(dropna=True, normalize=True)[qu6_categories]\n",
    "        .tolist()\n",
    "    ]\n",
    "}\n",
    "survey(qu6_results, qu6_categories)\n",
    "plt.suptitle(\"Views on future of Church Cowley LTN\")\n",
    "plt.savefig(\"img/09_future_of_ltn.png\", bbox_inches=\"tight\")\n",
    "plt.show()"
   ]
  },
  {
   "cell_type": "code",
   "execution_count": 69,
   "id": "19c545e4-b612-43c6-8045-a827b49e2405",
   "metadata": {},
   "outputs": [
    {
     "data": {
      "text/html": [
       "<div>\n",
       "<style scoped>\n",
       "    .dataframe tbody tr th:only-of-type {\n",
       "        vertical-align: middle;\n",
       "    }\n",
       "\n",
       "    .dataframe tbody tr th {\n",
       "        vertical-align: top;\n",
       "    }\n",
       "\n",
       "    .dataframe thead th {\n",
       "        text-align: right;\n",
       "    }\n",
       "</style>\n",
       "<table border=\"1\" class=\"dataframe\">\n",
       "  <thead>\n",
       "    <tr style=\"text-align: right;\">\n",
       "      <th>6_ltn_future</th>\n",
       "      <th>Kept as is</th>\n",
       "      <th>Kept with alterations</th>\n",
       "      <th>Removed</th>\n",
       "      <th>Don't know</th>\n",
       "    </tr>\n",
       "    <tr>\n",
       "      <th>4_ltn_impact_category</th>\n",
       "      <th></th>\n",
       "      <th></th>\n",
       "      <th></th>\n",
       "      <th></th>\n",
       "    </tr>\n",
       "  </thead>\n",
       "  <tbody>\n",
       "    <tr>\n",
       "      <th>Very positive</th>\n",
       "      <td>33.0</td>\n",
       "      <td>9.0</td>\n",
       "      <td>2.0</td>\n",
       "      <td>NaN</td>\n",
       "    </tr>\n",
       "    <tr>\n",
       "      <th>Slightly positive</th>\n",
       "      <td>13.0</td>\n",
       "      <td>16.0</td>\n",
       "      <td>NaN</td>\n",
       "      <td>3.0</td>\n",
       "    </tr>\n",
       "    <tr>\n",
       "      <th>Neutral</th>\n",
       "      <td>6.0</td>\n",
       "      <td>23.0</td>\n",
       "      <td>7.0</td>\n",
       "      <td>13.0</td>\n",
       "    </tr>\n",
       "    <tr>\n",
       "      <th>Slightly negative</th>\n",
       "      <td>1.0</td>\n",
       "      <td>32.0</td>\n",
       "      <td>33.0</td>\n",
       "      <td>4.0</td>\n",
       "    </tr>\n",
       "    <tr>\n",
       "      <th>Very negative</th>\n",
       "      <td>NaN</td>\n",
       "      <td>17.0</td>\n",
       "      <td>212.0</td>\n",
       "      <td>NaN</td>\n",
       "    </tr>\n",
       "  </tbody>\n",
       "</table>\n",
       "</div>"
      ],
      "text/plain": [
       "6_ltn_future           Kept as is  Kept with alterations  Removed  Don't know\n",
       "4_ltn_impact_category                                                        \n",
       "Very positive                33.0                    9.0      2.0         NaN\n",
       "Slightly positive            13.0                   16.0      NaN         3.0\n",
       "Neutral                       6.0                   23.0      7.0        13.0\n",
       "Slightly negative             1.0                   32.0     33.0         4.0\n",
       "Very negative                 NaN                   17.0    212.0         NaN"
      ]
     },
     "execution_count": 69,
     "metadata": {},
     "output_type": "execute_result"
    }
   ],
   "source": [
    "# Let's pivot\n",
    "df[\"6_ltn_future\"] = pd.Categorical(\n",
    "    df[\"6_ltn_future\"], categories=qu6_categories\n",
    ")  # helps get category order correct\n",
    "pivot_table = df[[\"4_ltn_impact_category\", \"6_ltn_future\"]].pivot_table(\n",
    "    index=\"4_ltn_impact_category\", columns=\"6_ltn_future\", aggfunc=len\n",
    ")\n",
    "pivot_table"
   ]
  },
  {
   "cell_type": "code",
   "execution_count": 70,
   "id": "2f5a6b52-1e61-4eed-9303-104bd4fc69a1",
   "metadata": {},
   "outputs": [
    {
     "data": {
      "text/plain": [
       "['Kept as is', 'Kept with alterations', 'Removed', \"Don't know\"]"
      ]
     },
     "execution_count": 70,
     "metadata": {},
     "output_type": "execute_result"
    }
   ],
   "source": [
    "pivot_table.columns.tolist()"
   ]
  },
  {
   "cell_type": "code",
   "execution_count": 71,
   "id": "69a2539c-a62f-42be-af99-7d85bb29e89b",
   "metadata": {},
   "outputs": [
    {
     "data": {
      "text/plain": [
       "['Very positive',\n",
       " 'Slightly positive',\n",
       " 'Neutral',\n",
       " 'Slightly negative',\n",
       " 'Very negative']"
      ]
     },
     "execution_count": 71,
     "metadata": {},
     "output_type": "execute_result"
    }
   ],
   "source": [
    "pivot_table.index.tolist()"
   ]
  },
  {
   "cell_type": "code",
   "execution_count": 72,
   "id": "8ddf305b-8a08-4c0a-af21-0ecfa26f4edc",
   "metadata": {},
   "outputs": [
    {
     "data": {
      "image/png": "[encoded data removed]",
      "text/plain": [
       "<Figure size 576x576 with 1 Axes>"
      ]
     },
     "metadata": {
      "needs_background": "light"
     },
     "output_type": "display_data"
    }
   ],
   "source": [
    "def pivot_table_heatplot(pivot_table):\n",
    "    fig, ax = plt.subplots(figsize=(8, 8))\n",
    "    im = ax.imshow(pivot_table)\n",
    "\n",
    "    column_names = pivot_table.columns.tolist()\n",
    "    row_names = pivot_table.index.tolist()\n",
    "\n",
    "    # We want to show all ticks...\n",
    "    ax.set_xticks(np.arange(len(column_names)))\n",
    "    ax.set_yticks(np.arange(len(row_names)))\n",
    "    # ... and label them with the respective list entries\n",
    "    ax.set_xticklabels(column_names)\n",
    "    ax.set_yticklabels(row_names)\n",
    "\n",
    "    # Rotate the tick labels and set their alignment.\n",
    "    plt.setp(ax.get_xticklabels(), rotation=45, ha=\"right\", rotation_mode=\"anchor\")\n",
    "\n",
    "    # Loop over data dimensions and create text annotations.\n",
    "    for i, c in enumerate(column_names):\n",
    "        for j, r in enumerate(row_names):\n",
    "            if r == \"Very negative\" and c == \"Removed\":\n",
    "                text = ax.text(i, j, pivot_table.loc[r, c], ha=\"center\", va=\"center\", color=\"k\")\n",
    "            else:\n",
    "                text = ax.text(i, j, pivot_table.loc[r, c], ha=\"center\", va=\"center\", color=\"w\")\n",
    "\n",
    "    ax.set_title(\"Correlation between LTN impact and future\")\n",
    "    fig.tight_layout()\n",
    "    plt.show()\n",
    "\n",
    "\n",
    "pivot_table_heatplot(pivot_table)"
   ]
  },
  {
   "cell_type": "code",
   "execution_count": 73,
   "id": "d678eeb6-d943-4dff-9c9a-648ddaf9a61c",
   "metadata": {
    "tags": []
   },
   "outputs": [],
   "source": [
    "# These two functions are from https://matplotlib.org/stable/gallery/images_contours_and_fields/image_annotated_heatmap.html#sphx-glr-gallery-images-contours-and-fields-image-annotated-heatmap-py\n",
    "import matplotlib\n",
    "\n",
    "\n",
    "def heatmap(data, row_labels, col_labels, ax=None, cbar_kw={}, cbarlabel=\"\", **kwargs):\n",
    "    \"\"\"\n",
    "    Create a heatmap from a numpy array and two lists of labels.\n",
    "\n",
    "    Parameters\n",
    "    ----------\n",
    "    data\n",
    "        A 2D numpy array of shape (N, M).\n",
    "    row_labels\n",
    "        A list or array of length N with the labels for the rows.\n",
    "    col_labels\n",
    "        A list or array of length M with the labels for the columns.\n",
    "    ax\n",
    "        A `matplotlib.axes.Axes` instance to which the heatmap is plotted.  If\n",
    "        not provided, use current axes or create a new one.  Optional.\n",
    "    cbar_kw\n",
    "        A dictionary with arguments to `matplotlib.Figure.colorbar`.  Optional.\n",
    "    cbarlabel\n",
    "        The label for the colorbar.  Optional.\n",
    "    **kwargs\n",
    "        All other arguments are forwarded to `imshow`.\n",
    "    \"\"\"\n",
    "\n",
    "    if not ax:\n",
    "        ax = plt.gca()\n",
    "\n",
    "    # Plot the heatmap\n",
    "    im = ax.imshow(data, **kwargs)\n",
    "\n",
    "    # Create colorbar\n",
    "    cbar = ax.figure.colorbar(im, ax=ax, **cbar_kw)\n",
    "    cbar.ax.set_ylabel(cbarlabel, rotation=-90, va=\"bottom\")\n",
    "\n",
    "    # We want to show all ticks...\n",
    "    ax.set_xticks(np.arange(data.shape[1]))\n",
    "    ax.set_yticks(np.arange(data.shape[0]))\n",
    "    # ... and label them with the respective list entries.\n",
    "    ax.set_xticklabels(col_labels)\n",
    "    ax.set_yticklabels(row_labels)\n",
    "\n",
    "    # Let the horizontal axes labeling appear on top.\n",
    "    ax.tick_params(top=True, bottom=False, labeltop=True, labelbottom=False)\n",
    "\n",
    "    # Rotate the tick labels and set their alignment.\n",
    "    plt.setp(ax.get_xticklabels(), rotation=-30, ha=\"right\", rotation_mode=\"anchor\")\n",
    "\n",
    "    # Turn spines off and create white grid.\n",
    "    ax.spines[:].set_visible(False)\n",
    "\n",
    "    ax.set_xticks(np.arange(data.shape[1] + 1) - 0.5, minor=True)\n",
    "    ax.set_yticks(np.arange(data.shape[0] + 1) - 0.5, minor=True)\n",
    "    ax.grid(which=\"minor\", color=\"w\", linestyle=\"-\", linewidth=3)\n",
    "    ax.tick_params(which=\"minor\", bottom=False, left=False)\n",
    "\n",
    "    return im, cbar\n",
    "\n",
    "\n",
    "def annotate_heatmap(\n",
    "    im, data=None, valfmt=\"{x:.2f}\", textcolors=(\"black\", \"white\"), threshold=None, **textkw\n",
    "):\n",
    "    \"\"\"\n",
    "    A function to annotate a heatmap.\n",
    "\n",
    "    Parameters\n",
    "    ----------\n",
    "    im\n",
    "        The AxesImage to be labeled.\n",
    "    data\n",
    "        Data used to annotate.  If None, the image's data is used.  Optional.\n",
    "    valfmt\n",
    "        The format of the annotations inside the heatmap.  This should either\n",
    "        use the string format method, e.g. \"$ {x:.2f}\", or be a\n",
    "        `matplotlib.ticker.Formatter`.  Optional.\n",
    "    textcolors\n",
    "        A pair of colors.  The first is used for values below a threshold,\n",
    "        the second for those above.  Optional.\n",
    "    threshold\n",
    "        Value in data units according to which the colors from textcolors are\n",
    "        applied.  If None (the default) uses the middle of the colormap as\n",
    "        separation.  Optional.\n",
    "    **kwargs\n",
    "        All other arguments are forwarded to each call to `text` used to create\n",
    "        the text labels.\n",
    "    \"\"\"\n",
    "\n",
    "    if not isinstance(data, (list, np.ndarray)):\n",
    "        data = im.get_array()\n",
    "\n",
    "    # Normalize the threshold to the images color range.\n",
    "    if threshold is not None:\n",
    "        threshold = im.norm(threshold)\n",
    "    else:\n",
    "        threshold = im.norm(data.max()) / 2.0\n",
    "\n",
    "    # Set default alignment to center, but allow it to be\n",
    "    # overwritten by textkw.\n",
    "    kw = dict(horizontalalignment=\"center\", verticalalignment=\"center\")\n",
    "    kw.update(textkw)\n",
    "\n",
    "    # Get the formatter in case a string is supplied\n",
    "    if isinstance(valfmt, str):\n",
    "        valfmt = matplotlib.ticker.StrMethodFormatter(valfmt)\n",
    "\n",
    "    # Loop over the data and create a `Text` for each \"pixel\".\n",
    "    # Change the text's color depending on the data.\n",
    "    texts = []\n",
    "    for i in range(data.shape[0]):\n",
    "        for j in range(data.shape[1]):\n",
    "            kw.update(color=textcolors[int(im.norm(data[i, j]) > threshold)])\n",
    "            text = im.axes.text(j, i, valfmt(data[i, j], None), **kw)\n",
    "            texts.append(text)\n",
    "\n",
    "    return texts"
   ]
  },
  {
   "cell_type": "code",
   "execution_count": 74,
   "id": "a008be6b-37c0-41fc-a941-8337c05a65d6",
   "metadata": {},
   "outputs": [
    {
     "name": "stderr",
     "output_type": "stream",
     "text": [
      "<__array_function__ internals>:5: UserWarning: Warning: converting a masked element to nan.\n",
      "/home/anna/.pyenv/versions/lpc/lib/python3.9/site-packages/matplotlib/colors.py:1159: UserWarning: Warning: converting a masked element to nan.\n",
      "  data = np.asarray(value)\n",
      "/home/anna/.pyenv/versions/lpc/lib/python3.9/site-packages/matplotlib/ticker.py:448: FutureWarning: Format strings passed to MaskedConstant are ignored, but in future may error or produce different behavior\n",
      "  return self.fmt.format(x=x, pos=pos)\n"
     ]
    },
    {
     "data": {
      "image/png": "[encoded data removed]",
      "text/plain": [
       "<Figure size 576x576 with 2 Axes>"
      ]
     },
     "metadata": {
      "needs_background": "light"
     },
     "output_type": "display_data"
    }
   ],
   "source": [
    "fig, ax = plt.subplots(figsize=(8, 8))\n",
    "\n",
    "im, cbar = heatmap(\n",
    "    pivot_table, pivot_table.index.tolist(), pivot_table.columns.tolist(), ax=ax, cbarlabel=\"Count\"\n",
    ")\n",
    "texts = annotate_heatmap(im, valfmt=\"{x:.0f}\")\n",
    "\n",
    "fig.tight_layout()\n",
    "plt.show()"
   ]
  },
  {
   "cell_type": "code",
   "execution_count": 75,
   "id": "6a9850f1-7135-4a86-8773-c778cc71e646",
   "metadata": {},
   "outputs": [
    {
     "data": {
      "image/png": "[encoded data removed]",
      "text/plain": [
       "<Figure size 576x576 with 2 Axes>"
      ]
     },
     "metadata": {
      "needs_background": "light"
     },
     "output_type": "display_data"
    }
   ],
   "source": [
    "# Try dropping the `Very negative` and `Removed` box as it's washing out everything else\n",
    "pivot_table.loc[\"Very negative\", \"Removed\"] = np.nan\n",
    "\n",
    "fig, ax = plt.subplots(figsize=(8, 8))\n",
    "\n",
    "im, cbar = heatmap(\n",
    "    pivot_table, pivot_table.index.tolist(), pivot_table.columns.tolist(), ax=ax, cbarlabel=\"Count\"\n",
    ")\n",
    "texts = annotate_heatmap(im, valfmt=\"{x:.0f}\")\n",
    "\n",
    "fig.tight_layout()\n",
    "plt.show()"
   ]
  },
  {
   "cell_type": "markdown",
   "id": "5404ac8e-19be-4b07-9359-3ab1bf244495",
   "metadata": {},
   "source": [
    "## Responding to the County Consultation"
   ]
  },
  {
   "cell_type": "code",
   "execution_count": 91,
   "id": "12959105-e93b-4f26-a5d9-308d6cc4a27c",
   "metadata": {},
   "outputs": [
    {
     "data": {
      "image/png": "[encoded data removed]",
      "text/plain": [
       "<Figure size 662.4x360 with 1 Axes>"
      ]
     },
     "metadata": {
      "needs_background": "light"
     },
     "output_type": "display_data"
    }
   ],
   "source": [
    "qu9_filter_category_order = [\"Yes\", \"No\", \"Did not answer\"]\n",
    "df[\"9_consultation\"] = df[\"9_consultation\"].fillna(\"Did not answer\")\n",
    "qu9_results = {\n",
    "    \"All\": df[\"9_consultation\"]\n",
    "    .value_counts(dropna=False, normalize=True)[qu9_filter_category_order]\n",
    "    .tolist(),\n",
    "    \"Wants LTNs removed\": df[df[\"6_ltn_future_simple\"] == \"Remove\"][\"9_consultation\"]\n",
    "    .value_counts(dropna=False, normalize=True)[qu9_filter_category_order]\n",
    "    .tolist(),\n",
    "    \"Wants LTNs kept\": df[df[\"6_ltn_future_simple\"] == \"Keep\"][\"9_consultation\"]\n",
    "    .value_counts(dropna=False, normalize=True)[qu9_filter_category_order]\n",
    "    .tolist(),\n",
    "    \"LTN future neutral\": df[\n",
    "        (df[\"6_ltn_future_simple\"] == \"0\") | (df[\"6_ltn_future_simple\"] == \"Neutral\")\n",
    "    ][\"9_consultation\"]\n",
    "    .value_counts(dropna=False, normalize=True)[qu9_filter_category_order]\n",
    "    .tolist(),\n",
    "}\n",
    "qu9_results = {k: list(map(lambda x: x * 100, v)) for k, v in qu9_results.items()}\n",
    "qu9_results\n",
    "survey(qu9_results, qu9_filter_category_order)\n",
    "plt.suptitle(\"Filling in the County Council consultation\")\n",
    "plt.savefig(\"img/10_county_council_consultation.png\", bbox_inches=\"tight\")"
   ]
  },
  {
   "cell_type": "markdown",
   "id": "1bfaa809-e911-4202-8324-ec6045459071",
   "metadata": {},
   "source": [
    "# Question 7 & 8 (benefits and problems with LTNs)\n",
    "\n",
    "Ideas:\n",
    "- Simple bar charts for aggregated data\n",
    "- \"Empathy gap\"? (i.e. antis not having good things to say, while pros can see the problems)\n",
    "- Similarly - \"Idea gap\" with qu 10"
   ]
  },
  {
   "cell_type": "code",
   "execution_count": null,
   "id": "e8c759f4-655a-41b2-83e5-8ffbd4824807",
   "metadata": {},
   "outputs": [],
   "source": []
  }
 ],
 "metadata": {
  "kernelspec": {
   "display_name": "Python 3 (ipykernel)",
   "language": "python",
   "name": "python3"
  },
  "language_info": {
   "codemirror_mode": {
    "name": "ipython",
    "version": 3
   },
   "file_extension": ".py",
   "mimetype": "text/x-python",
   "name": "python",
   "nbconvert_exporter": "python",
   "pygments_lexer": "ipython3",
   "version": "3.9.1"
  }
 },
 "nbformat": 4,
 "nbformat_minor": 5
}
